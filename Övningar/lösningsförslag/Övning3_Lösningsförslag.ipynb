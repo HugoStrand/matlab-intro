{
 "cells": [
  {
   "cell_type": "code",
   "execution_count": 5,
   "metadata": {},
   "outputs": [],
   "source": [
    "format compact"
   ]
  },
  {
   "cell_type": "markdown",
   "metadata": {},
   "source": [
    "### Uppgift 1a"
   ]
  },
  {
   "cell_type": "code",
   "execution_count": 9,
   "metadata": {},
   "outputs": [
    {
     "name": "stdout",
     "output_type": "stream",
     "text": [
      "Created file '/Users/hugstr/oru/Teaching/IntroProg_Matematikprogrammet@ORU/HT2021/Övningar/lösningsförslag/bisektion.m'.\n"
     ]
    }
   ],
   "source": [
    "%%file bisektion.m\n",
    "\n",
    "function x0 = bisektion(f, a, b, eps)\n",
    "    assert(a < b)\n",
    "    f_a = f(a);\n",
    "    f_b = f(b);\n",
    "    assert(sign(f_a) ~= sign(f_b))\n",
    "    err = inf;\n",
    "    while abs(err) > eps\n",
    "        c = (a + b) / 2.;\n",
    "        f_c = f(c);\n",
    "        if sign(f_c) == sign(f_a)\n",
    "            a = c;\n",
    "            f_a = f_c;\n",
    "        else\n",
    "            b = c;\n",
    "            f_b = f_c;\n",
    "        end\n",
    "        err = b - a;\n",
    "    end\n",
    "    x0 = (a + b) / 2.;\n",
    "end"
   ]
  },
  {
   "cell_type": "markdown",
   "metadata": {},
   "source": [
    "### Uppgift 1b"
   ]
  },
  {
   "cell_type": "code",
   "execution_count": 10,
   "metadata": {},
   "outputs": [
    {
     "name": "stdout",
     "output_type": "stream",
     "text": [
      "x0 =\n",
      "   -0.9741\n"
     ]
    }
   ],
   "source": [
    "g = @(x) x + sqrt(3) * cos(x);\n",
    "\n",
    "x0 = bisektion(g, -2, 2, 0.001)"
   ]
  },
  {
   "cell_type": "code",
   "execution_count": 13,
   "metadata": {},
   "outputs": [
    {
     "data": {
      "image/png": "[encoded data removed]",
      "text/plain": [
       "<IPython.core.display.Image object>"
      ]
     },
     "metadata": {},
     "output_type": "display_data"
    }
   ],
   "source": [
    "x = linspace(-10, 10, 400);\n",
    "\n",
    "plot(x, g(x))\n",
    "hold on\n",
    "plot(x0, 0, 'ro')\n",
    "grid('on')"
   ]
  },
  {
   "cell_type": "markdown",
   "metadata": {},
   "source": [
    "### Uppgift 2a"
   ]
  },
  {
   "cell_type": "markdown",
   "metadata": {},
   "source": [
    "### Uppgift 2b"
   ]
  },
  {
   "cell_type": "code",
   "execution_count": null,
   "metadata": {},
   "outputs": [],
   "source": []
  }
 ],
 "metadata": {
  "kernelspec": {
   "display_name": "Matlab",
   "language": "matlab",
   "name": "matlab"
  },
  "language_info": {
   "codemirror_mode": "octave",
   "file_extension": ".m",
   "help_links": [
    {
     "text": "MetaKernel Magics",
     "url": "https://metakernel.readthedocs.io/en/latest/source/README.html"
    }
   ],
   "mimetype": "text/x-octave",
   "name": "matlab",
   "version": "0.16.11"
  }
 },
 "nbformat": 4,
 "nbformat_minor": 4
}
