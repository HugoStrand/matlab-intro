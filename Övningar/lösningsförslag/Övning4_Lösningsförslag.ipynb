{
 "cells": [
  {
   "cell_type": "code",
   "execution_count": 1,
   "metadata": {},
   "outputs": [
    {
     "name": "stdout",
     "output_type": "stream",
     "text": [
      "\n",
      "ans =\n",
      "\n",
      "    '9.8.0.1538580 (R2020a) Update 6'\n",
      "\n"
     ]
    }
   ],
   "source": [
    "format compact"
   ]
  },
  {
   "cell_type": "markdown",
   "metadata": {},
   "source": [
    "# Koch snöflingan\n",
    "\n",
    "<https://en.wikipedia.org/wiki/Koch_snowflake>\n",
    "\n",
    "är en själv-similär fraktal.\n",
    "\n",
    "<https://en.wikipedia.org/wiki/Self-similarity>\n",
    "\n",
    "Den kan konstrueras iterativt genom att\n",
    "\n",
    "1. Givet en linje mellan två punkter\n",
    "2. Dela upp linjen i fyra nya linjer med 1/3 av linjens längd, enl. figur nedan.\n",
    "3. För varje nytt linje-segment repetera proceduren från punkt 1."
   ]
  },
  {
   "cell_type": "code",
   "execution_count": null,
   "metadata": {},
   "outputs": [],
   "source": [
    "%%file koch_step.m\n",
    "\n",
    "function v = koch_step(v_start)\n",
    "\n",
    "v = v_start;\n",
    "\n",
    "R = [0, -1; 1, 0]; % Rotation matrix\n",
    "\n",
    "vn = [[]];\n",
    "for j = 1:length(v) - 1\n",
    "      \n",
    "    v1 = v(:, j);\n",
    "    v2 = v(:, j + 1);\n",
    "\n",
    "    dv_para = 1/3 * (v2 - v1);\n",
    "    dv_orth = sqrt(3)/2 * R * dv_para;\n",
    "      \n",
    "    v3 = v1 + dv_para;\n",
    "    v4 = v2 - dv_para;\n",
    "    v5 = v3 + dv_para/2 + dv_orth;\n",
    "      \n",
    "    vv = [v1, v3, v5, v4];\n",
    "    vn = [vn, vv];\n",
    "end\n",
    "vn = [vn, v2];\n",
    "v = vn;\n",
    "\n",
    "end"
   ]
  },
  {
   "cell_type": "code",
   "execution_count": null,
   "metadata": {},
   "outputs": [],
   "source": [
    "%%file koch.m\n",
    "\n",
    "function v = koch(v_start, steps)\n",
    "\n",
    "v = v_start;\n",
    "\n",
    "R = [0, -1; 1, 0]; % Rotation matrix\n",
    "\n",
    "for i = 1:steps\n",
    "    vn = [[]];\n",
    "    for j = 1:length(v) - 1\n",
    "      \n",
    "      v1 = v(:, j);\n",
    "      v2 = v(:, j + 1);\n",
    "\n",
    "      dv_para = 1/3 * (v2 - v1);\n",
    "      dv_orth = sqrt(3)/2 * R * dv_para;\n",
    "      \n",
    "      v3 = v1 + dv_para;\n",
    "      v4 = v2 - dv_para;\n",
    "      v5 = v3 + dv_para/2 + dv_orth;\n",
    "      \n",
    "      vv = [v1, v3, v5, v4];\n",
    "      vn = [vn, vv];\n",
    "    end\n",
    "    vn = [vn, v2];\n",
    "    v = vn;\n",
    "end\n",
    "\n",
    "end"
   ]
  },
  {
   "cell_type": "code",
   "execution_count": null,
   "metadata": {},
   "outputs": [],
   "source": [
    "%%file koch_dir.m\n",
    "\n",
    "function v = koch_dir(v_start, steps, dir)\n",
    "\n",
    "v = v_start;\n",
    "\n",
    "R = dir * [0, -1; 1, 0]; % Rotation matrix\n",
    "a\n",
    "for i = 1:steps\n",
    "    vn = [[]];\n",
    "    for j = 1:length(v) - 1\n",
    "      \n",
    "      v1 = v(:, j);\n",
    "      v2 = v(:, j + 1);\n",
    "\n",
    "      dv_para = 1/3 * (v2 - v1);\n",
    "      dv_orth = sqrt(3)/2 * R * dv_para;\n",
    "      \n",
    "      v3 = v1 + dv_para;\n",
    "      v4 = v2 - dv_para;\n",
    "      v5 = v3 + dv_para/2 + dv_orth;\n",
    "      \n",
    "      vv = [v1, v3, v5, v4];\n",
    "      vn = [vn, vv];\n",
    "    end\n",
    "    vn = [vn, v2];\n",
    "    v = vn;\n",
    "end\n",
    "\n",
    "end"
   ]
  },
  {
   "cell_type": "code",
   "execution_count": 6,
   "metadata": {},
   "outputs": [],
   "source": [
    "?%plot"
   ]
  },
  {
   "cell_type": "code",
   "execution_count": 13,
   "metadata": {},
   "outputs": [
    {
     "data": {
      "image/png": "[encoded data removed]",
      "text/plain": [
       "<IPython.core.display.Image object>"
      ]
     },
     "metadata": {},
     "output_type": "display_data"
    }
   ],
   "source": [
    "%plot -s 600,100\n",
    "\n",
    "% %%plot -s 600,100 -r 192\n",
    "\n",
    "v = [[-1; 0], [+1; 0]];\n",
    "\n",
    "fig = figure();\n",
    "N = 3;\n",
    "for i = 1:N\n",
    "    subplot(1, N, i)\n",
    "    plot(v(1, :), v(2, :), '.-k')\n",
    "    axis('image')\n",
    "    xlim([-1.0, 1.0])\n",
    "    ylim([-0.05, 0.66])\n",
    "    axis('off')\n",
    "    v = koch(v, 1);\n",
    "end\n",
    "\n",
    "print(fig, '-dsvg', 'koch_steps.svg')\n",
    "print(fig, '-dpng', 'koch_steps.png')"
   ]
  },
  {
   "cell_type": "code",
   "execution_count": 2,
   "metadata": {},
   "outputs": [
    {
     "name": "stdout",
     "output_type": "stream",
     "text": [
      "\n",
      "ans =\n",
      "\n",
      "    '9.8.0.1538580 (R2020a) Update 6'\n",
      "\n"
     ]
    }
   ],
   "source": [
    "v1 = [-1, -1/sqrt(3)]';\n",
    "v2 = [+1, -1/sqrt(3)]';\n",
    "v3 = [ 0, +2/sqrt(3)]';\n",
    "\n",
    "v_tri = [v1, v2, v3, v1];"
   ]
  },
  {
   "cell_type": "code",
   "execution_count": 3,
   "metadata": {},
   "outputs": [
    {
     "data": {
      "image/png": "[encoded data removed]",
      "text/plain": [
       "<IPython.core.display.Image object>"
      ]
     },
     "metadata": {},
     "output_type": "display_data"
    }
   ],
   "source": [
    "x = v_tri(1, :);\n",
    "y = v_tri(2, :);\n",
    "\n",
    "plot(x, y, '-k')\n",
    "xlim([-2, 2])\n",
    "ylim([-2, 2])\n",
    "axis('square')\n",
    "axis('off')"
   ]
  },
  {
   "cell_type": "code",
   "execution_count": null,
   "metadata": {},
   "outputs": [],
   "source": [
    "figure()\n",
    "for N = 0:3\n",
    "    v = koch(v_tri, N, -1);\n",
    "    subplot(2, 2, N+1)\n",
    "    plot(v(1,:), v(2, :), '-k')\n",
    "    xlim([-1.5, 1.5])\n",
    "    ylim([-1.5, 1.5])\n",
    "    axis('square')\n",
    "    text(-1.25, 1, sprintf(\"N = %i\", N))\n",
    "end"
   ]
  },
  {
   "cell_type": "code",
   "execution_count": null,
   "metadata": {},
   "outputs": [],
   "source": [
    "v_flake = koch(v_tri, 6, -1);\n",
    "\n",
    "x = v_flake(1, :);\n",
    "y = v_flake(2, :);\n",
    "\n",
    "fig = figure();\n",
    "plot(x, y, '-k')\n",
    "xlim([-1.5, 1.5])\n",
    "ylim([-1.5, 1.5])\n",
    "axis('square')\n",
    "axis('off')\n",
    "\n",
    "print(fig, '-dsvg', 'koch.svg')"
   ]
  },
  {
   "cell_type": "code",
   "execution_count": null,
   "metadata": {},
   "outputs": [],
   "source": [
    "v_rev = koch(v_tri, 6, +1);\n",
    "\n",
    "x = v_rev(1, :);\n",
    "y = v_rev(2, :);\n",
    "\n",
    "fig = figure();\n",
    "plot(x, y, '-k')\n",
    "xlim([-1.5, 1.5])\n",
    "ylim([-1.5, 1.5])\n",
    "axis('square')\n",
    "axis('off')\n",
    "\n",
    "print(fig, '-dsvg', 'koch_rev.svg')"
   ]
  },
  {
   "cell_type": "markdown",
   "metadata": {},
   "source": [
    "## The Barnsley fern\n",
    "\n",
    "<https://en.wikipedia.org/wiki/Barnsley_fern>"
   ]
  },
  {
   "cell_type": "code",
   "execution_count": null,
   "metadata": {},
   "outputs": [],
   "source": [
    "N = 100000;\n",
    "\n",
    "xy = [0; 0];\n",
    "fern = zeros(N, 2);\n",
    "\n",
    "f_1 = [0 0; 0 0.16];\n",
    "f_2 = [0.85 0.04; -0.04 0.85];\n",
    "f_3 = [0.2 -0.26; 0.23 0.22];\n",
    "f_4 = [-0.15 0.28; 0.26 0.24];\n",
    "\n",
    "P = randsample(1:4, N, true, [0.01 0.85 0.07 0.07]);\n",
    "\n",
    "for i = 2:N\n",
    "    p = P(i - 1);\n",
    "    if p == 1 % Stem\n",
    "        xy = f_1 * xy;\n",
    "    elseif p == 2 % Sub-leaflets\n",
    "        xy = f_2 * xy + [0; 1.6];\n",
    "    elseif p == 3 % Left leaflet\n",
    "        xy = f_3 * xy + [0; 1.6];\n",
    "    else % Right leaflet\n",
    "        xy = f_4 * xy + [0; 0.44];\n",
    "    end\n",
    "    \n",
    "    fern(i, 1) = xy(1);\n",
    "    fern(i, 2) = xy(2);\n",
    "end"
   ]
  },
  {
   "cell_type": "code",
   "execution_count": null,
   "metadata": {},
   "outputs": [],
   "source": [
    "fig = figure();\n",
    "\n",
    "darkgreen = [0, 0.5, 0];\n",
    "\n",
    "colormap(summer(N));\n",
    "set(gcf, 'Color', 'k', 'position', [10, 50, 800, 600]);\n",
    "s = scatter(fern(:, 1), fern(:, 2), 1.0, darkgreen, 'filled');\n",
    "alpha(s, 0.5)\n",
    "set(gca, 'Color', 'k');\n",
    "axis('image')\n",
    "axis('off')\n",
    "\n",
    "print(fig, '-dpng', 'barnsley.png', '-r600')"
   ]
  },
  {
   "cell_type": "markdown",
   "metadata": {},
   "source": [
    "# Mandelbrot set\n",
    "\n",
    "<https://en.wikipedia.org/wiki/Mandelbrot_set>"
   ]
  },
  {
   "cell_type": "code",
   "execution_count": null,
   "metadata": {},
   "outputs": [],
   "source": [
    "N = 2 * 350;\n",
    "M = 2 * 300;\n",
    "depth = 32;\n",
    "\n",
    "x = linspace(-2.5, 1, N);\n",
    "y = linspace(-1.5, 1.5, M);\n",
    "A = zeros([N, M]);\n",
    "\n",
    "tic\n",
    "for i = 1:length(x)\n",
    "for j = 1:length(y)\n",
    "    z = 0.;\n",
    "    z0 = x(i) + 1i * y(j);\n",
    "    for iteration = 1:depth\n",
    "        z = z.^2 + z0;\n",
    "        if abs(z) > 4\n",
    "            break\n",
    "        end\n",
    "    end\n",
    "    A(i, j) = iteration;\n",
    "end\n",
    "end\n",
    "toc\n",
    "\n",
    "image(A')\n",
    "\n",
    "axis('image'); colormap(flipud(jet(depth))); axis off;\n",
    "colorbar"
   ]
  },
  {
   "cell_type": "code",
   "execution_count": null,
   "metadata": {},
   "outputs": [],
   "source": [
    "N = 2 * 350;\n",
    "M = 2 * 300;\n",
    "\n",
    "depth = 32;\n",
    "\n",
    "x = linspace(-2.5, 1, N);\n",
    "y = linspace(-1.5, 1.5, M);\n",
    "A = zeros([N, M]);\n",
    "\n",
    "z0 = x' + 1.j * y;\n",
    "z = zeros([N, M]);\n",
    "\n",
    "tic\n",
    "for iter = 1:depth\n",
    "    z = z.^2 + z0;\n",
    "    A = (A == 0) .* (abs(z) > 4) * iter + A .* (A > 0);\n",
    "end\n",
    "A = (A == 0) * depth + A .* (A > 0);\n",
    "toc\n",
    "\n",
    "image(A')\n",
    "\n",
    "axis('image'); colormap(flipud(jet(depth))); axis off;\n",
    "colorbar"
   ]
  },
  {
   "cell_type": "markdown",
   "metadata": {},
   "source": [
    "## Julia set\n",
    "\n",
    "<https://en.wikipedia.org/wiki/Julia_set>"
   ]
  },
  {
   "cell_type": "code",
   "execution_count": null,
   "metadata": {},
   "outputs": [],
   "source": [
    "c = -0.8 + 0.156i\n",
    "%c = 0.285 + 0.01i\n",
    "R = 2"
   ]
  },
  {
   "cell_type": "code",
   "execution_count": null,
   "metadata": {},
   "outputs": [],
   "source": [
    "N = 400;\n",
    "M = 300;\n",
    "depth = 32;\n",
    "\n",
    "x = linspace(-2.0, 2.0, N);\n",
    "y = linspace(-1.5, 1.5, M);\n",
    "A = zeros([N, M]);\n",
    "\n",
    "for i = 1:length(x)\n",
    "for j = 1:length(y)\n",
    "    z = x(i) + 1i * y(j);\n",
    "    for iteration = 1:depth\n",
    "        z = z.^2 + c;\n",
    "        if abs(z) > R\n",
    "            break\n",
    "        end\n",
    "    end\n",
    "    A(i, j) = iteration;\n",
    "end\n",
    "end\n",
    "\n",
    "image(A')\n",
    "\n",
    "axis('image'); colormap(flipud(jet(depth))); axis off;"
   ]
  },
  {
   "cell_type": "code",
   "execution_count": null,
   "metadata": {},
   "outputs": [],
   "source": []
  }
 ],
 "metadata": {
  "kernelspec": {
   "display_name": "Matlab",
   "language": "matlab",
   "name": "matlab"
  },
  "language_info": {
   "codemirror_mode": "octave",
   "file_extension": ".m",
   "help_links": [
    {
     "text": "MetaKernel Magics",
     "url": "https://metakernel.readthedocs.io/en/latest/source/README.html"
    }
   ],
   "mimetype": "text/x-octave",
   "name": "matlab",
   "version": "0.16.11"
  }
 },
 "nbformat": 4,
 "nbformat_minor": 4
}
