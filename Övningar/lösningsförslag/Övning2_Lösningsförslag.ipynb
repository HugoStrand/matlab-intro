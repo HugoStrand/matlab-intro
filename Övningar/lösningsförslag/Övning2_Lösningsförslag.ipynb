{
 "cells": [
  {
   "cell_type": "code",
   "execution_count": 1,
   "metadata": {},
   "outputs": [],
   "source": [
    "format compact"
   ]
  },
  {
   "cell_type": "markdown",
   "metadata": {},
   "source": [
    "# Övning 2: Sorterings algoritmer\n",
    "\n",
    "<https://en.wikipedia.org/wiki/Sorting_algorithm>"
   ]
  },
  {
   "cell_type": "markdown",
   "metadata": {},
   "source": [
    "### Uppgift 1"
   ]
  },
  {
   "cell_type": "code",
   "execution_count": 2,
   "metadata": {},
   "outputs": [
    {
     "name": "stdout",
     "output_type": "stream",
     "text": [
      "Created file '/Users/hugstr/dev/matlab-intro/Övningar/lösningsförslag/bubble_sort.m'.\n"
     ]
    }
   ],
   "source": [
    "%%file bubble_sort.m\n",
    "\n",
    "function s = bubble_sort(l)\n",
    "    s = zeros(size(l));\n",
    "    s(:) = l;\n",
    "    for i = 1:length(l)-1\n",
    "        for j = 1:length(l)-1\n",
    "           if s(j) > s(j+1)\n",
    "               % Exchange positions of the two numbers\n",
    "               tmp = s(j);\n",
    "               s(j) = s(j + 1);\n",
    "               s(j + 1) = tmp;\n",
    "           end\n",
    "        end\n",
    "    end\n",
    "end"
   ]
  },
  {
   "cell_type": "code",
   "execution_count": 3,
   "metadata": {},
   "outputs": [
    {
     "name": "stdout",
     "output_type": "stream",
     "text": [
      "l =\n",
      "     8     4     6     1\n",
      "s =\n",
      "     1     4     6     8\n"
     ]
    }
   ],
   "source": [
    "l = [8, 4, 6, 1]\n",
    "s = bubble_sort(l)"
   ]
  },
  {
   "cell_type": "code",
   "execution_count": 4,
   "metadata": {},
   "outputs": [],
   "source": [
    "% Testa bubble_sort med sort funktionen\n",
    "l = randn(1, 100);\n",
    "assert(all(sort(l) == bubble_sort(l)))"
   ]
  },
  {
   "cell_type": "markdown",
   "metadata": {},
   "source": [
    "### Extra-uppgift 1"
   ]
  },
  {
   "cell_type": "code",
   "execution_count": 5,
   "metadata": {},
   "outputs": [
    {
     "name": "stdout",
     "output_type": "stream",
     "text": [
      "Created file '/Users/hugstr/dev/matlab-intro/Övningar/lösningsförslag/quick_sort.m'.\n"
     ]
    }
   ],
   "source": [
    "%%file quick_sort.m\n",
    "\n",
    "function s = quick_sort(l)\n",
    "    s = quick_sort_recursion(l, 1, length(l));\n",
    "end\n",
    "\n",
    "function s = quick_sort_recursion(l, lo, hi)\n",
    "    if lo >= 1 && hi >= 1 && lo < hi\n",
    "        [p, l] = partition(l, lo, hi);\n",
    "        l = quick_sort_recursion(l, lo, p - 1);\n",
    "        l = quick_sort_recursion(l, p + 1, hi);\n",
    "    end\n",
    "    s = l;\n",
    "end\n",
    "\n",
    "function [p, s] = partition(l, lo, hi)\n",
    "    pivot = l(hi);\n",
    "    i = lo - 1;\n",
    "    for j = lo:hi\n",
    "        if l(j) <= pivot\n",
    "            i = i + 1;\n",
    "            tmp = l(i);\n",
    "            l(i) = l(j);\n",
    "            l(j) = tmp;\n",
    "        end\n",
    "    end\n",
    "    p = i;\n",
    "    s = l;\n",
    "end"
   ]
  },
  {
   "cell_type": "code",
   "execution_count": 6,
   "metadata": {},
   "outputs": [
    {
     "name": "stdout",
     "output_type": "stream",
     "text": [
      "l =\n",
      "     8     4     6     1     3     8     4\n",
      "s =\n",
      "     1     3     4     4     6     8     8\n"
     ]
    }
   ],
   "source": [
    "l = [8, 4, 6, 1, 3, 8, 4]\n",
    "s = quick_sort(l)"
   ]
  },
  {
   "cell_type": "code",
   "execution_count": 7,
   "metadata": {},
   "outputs": [],
   "source": [
    "% Testa quick_sort med sort funktionen\n",
    "l = randn(1, 100);\n",
    "assert(all(sort(l) == quick_sort(l)))"
   ]
  }
 ],
 "metadata": {
  "kernelspec": {
   "display_name": "Matlab",
   "language": "matlab",
   "name": "matlab"
  },
  "language_info": {
   "codemirror_mode": "octave",
   "file_extension": ".m",
   "help_links": [
    {
     "text": "MetaKernel Magics",
     "url": "https://metakernel.readthedocs.io/en/latest/source/README.html"
    }
   ],
   "mimetype": "text/x-octave",
   "name": "matlab",
   "version": "0.17.1"
  }
 },
 "nbformat": 4,
 "nbformat_minor": 4
}
