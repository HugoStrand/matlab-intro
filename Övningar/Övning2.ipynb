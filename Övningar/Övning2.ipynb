{
 "cells": [
  {
   "cell_type": "code",
   "execution_count": 4,
   "metadata": {},
   "outputs": [],
   "source": [
    "format compact"
   ]
  },
  {
   "cell_type": "markdown",
   "metadata": {},
   "source": [
    "# Övning 2: Sorterings-algoritmer\n",
    "\n",
    "<https://en.wikipedia.org/wiki/Sorting_algorithm>"
   ]
  },
  {
   "cell_type": "markdown",
   "metadata": {},
   "source": [
    "## Bubble sort\n",
    "\n",
    "<https://en.wikipedia.org/wiki/Bubble_sort>\n",
    "\n",
    "Är en enkel sorteringsalgoritm som, av tradition, är ofta den första sorteringsalgoritmen som lärs ut inom datavetenskap. Algoritmen är enkel och kan vara till hjälp för att förstå sorterings problemet."
   ]
  },
  {
   "cell_type": "markdown",
   "metadata": {},
   "source": [
    "**Bubble-sort algoritmen**\n",
    "\n",
    "Givet en oordnad lista $l$ av tal\n",
    "\n",
    "Starta med förtsa paret av tal i listan\n",
    "1. Jämför paret av tal\n",
    "2. Byt position på talen, om paret inte är ordnat\n",
    "3. Tag nästa par i listan och gå till punkt 1.\n",
    "\n",
    "Repetera proceduren $n-1$ gånger, där $n$ är antal element i listan $l$."
   ]
  },
  {
   "cell_type": "markdown",
   "metadata": {},
   "source": [
    "### Uppgift 1\n",
    "\n",
    "Implementera funktionen `bubble_sort` som tar en lista `l` som argument, sorterar listan med bubble-sort algortimen, och returnerar den sorterade listan `s`\n",
    "\n",
    "```octave\n",
    "function s = bubble_sort(l)\n",
    "    ...\n",
    "end\n",
    "```\n",
    "\n",
    "Testa din implementation på följande exempel:"
   ]
  },
  {
   "cell_type": "code",
   "execution_count": 5,
   "metadata": {},
   "outputs": [
    {
     "name": "stdout",
     "output_type": "stream",
     "text": [
      "s =\n",
      "     1     4     6     8\n"
     ]
    }
   ],
   "source": [
    "l = [8, 4, 6, 1];\n",
    "s = bubble_sort(l)"
   ]
  },
  {
   "cell_type": "code",
   "execution_count": 7,
   "metadata": {},
   "outputs": [],
   "source": [
    "% Testa bubble_sort genom att jämföra med sort funktionen\n",
    "l = randn(1, 100);\n",
    "assert(all(sort(l) == bubble_sort(l)))"
   ]
  },
  {
   "cell_type": "markdown",
   "metadata": {},
   "source": [
    "## Quicksort\n",
    "\n",
    "<https://en.wikipedia.org/wiki/Quicksort>\n",
    "\n",
    "Quick-sort är en mer effektiv algoritm för sortering som kan implementeras rekursivt. Det finns ett flertal varianter på algoritmen, men vi skall fokusera på Lomuto:s version.\n",
    "\n",
    "Algoritmen går ut på att givet ett del-intervall med element, välj ett element som kallas *pivot* och partitionera listan i två delar där den första innehåller element mindre än pivoten och den andra innehåller element som är större eller lika med pivoten. Sedan kan algoritmen anropas rekursivt för de två delarna av listan.\n",
    "\n",
    "**Quick-sort**\n",
    "\n",
    "Givet en oordnad lista av tal `l` och ett start-index `lo` och slut-index `hi`\n",
    "\n",
    "1. Om delintervallet `[lo, hi]` innehåller färre än två element, returnera.\n",
    "2. Välj det sista elementet i listan som pivot\n",
    "3. Iterera över alla element i del-intervallet och \n",
    "   - byt plats på element som är mindre än pivoten, \n",
    "   - så att alla element mindre än pivoten samlas i början på intervallet.\n",
    "4. Notera indexet `p` på pivoten\n",
    "5. Anropa algoritmen igen för de nya intervallen\n",
    "   - `[lo, p-1]` och `[p+1, hi]`"
   ]
  },
  {
   "cell_type": "markdown",
   "metadata": {},
   "source": [
    "### Extra-uppgift 2\n",
    "\n",
    "Implementera funktionen `quick_sort` som tar en lista `l` som argument, sorterar listan med bubble-sort algortimen, och returnerar den sorterade listan `s`\n",
    "\n",
    "```octave\n",
    "function s = quick_sort(l)\n",
    "    ...\n",
    "end\n",
    "```\n",
    "\n",
    "Testa din implementation på följande exempel:"
   ]
  },
  {
   "cell_type": "code",
   "execution_count": 9,
   "metadata": {},
   "outputs": [
    {
     "name": "stdout",
     "output_type": "stream",
     "text": [
      "l =\n",
      "     8     4     6     1     3     8     4\n",
      "s =\n",
      "     1     3     4     4     6     8     8\n"
     ]
    }
   ],
   "source": [
    "l = [8, 4, 6, 1, 3, 8, 4]\n",
    "s = quick_sort(l)"
   ]
  },
  {
   "cell_type": "code",
   "execution_count": 10,
   "metadata": {},
   "outputs": [],
   "source": [
    "% Testa quick_sort med sort funktionen\n",
    "l = randn(1, 100);\n",
    "assert(all(sort(l) == quick_sort(l)))"
   ]
  },
  {
   "cell_type": "markdown",
   "metadata": {},
   "source": [
    "#### Tips\n",
    "\n",
    "Algoritmen kan delas upp i del-funktioner med en rekursiv del\n",
    "\n",
    "```octave\n",
    "function s = quick_sort_recursion(l, lo, hi)\n",
    "    ...\n",
    "end\n",
    "```\n",
    "\n",
    "som dels partitionerar och anropar sig själv rekursivt på de två nya delintervallen.\n",
    "\n",
    "Partitioneringen i steg 3 och 4 kan implementerar som en separat funktion\n",
    "\n",
    "```octave\n",
    "function s = partition(l, lo, hi)\n",
    "    ...\n",
    "end\n",
    "```\n",
    "\n",
    "Med dessa funktioner kan `quick_sort` funktionen implementeras som\n",
    "\n",
    "```octave\n",
    "function s = quick_sort(l)\n",
    "    s = quick_sort_recursive(l, 1, length(l))\n",
    "end\n",
    "```"
   ]
  }
 ],
 "metadata": {
  "kernelspec": {
   "display_name": "Matlab",
   "language": "matlab",
   "name": "matlab"
  },
  "language_info": {
   "codemirror_mode": "octave",
   "file_extension": ".m",
   "help_links": [
    {
     "text": "MetaKernel Magics",
     "url": "https://metakernel.readthedocs.io/en/latest/source/README.html"
    }
   ],
   "mimetype": "text/x-octave",
   "name": "matlab",
   "version": "0.16.11"
  }
 },
 "nbformat": 4,
 "nbformat_minor": 4
}
