{
 "cells": [
  {
   "cell_type": "code",
   "execution_count": 1,
   "metadata": {},
   "outputs": [
    {
     "name": "stdout",
     "output_type": "stream",
     "text": [
      "\n",
      "ans =\n",
      "\n",
      "    '9.8.0.1538580 (R2020a) Update 6'\n",
      "\n"
     ]
    }
   ],
   "source": [
    "format compact"
   ]
  },
  {
   "cell_type": "markdown",
   "metadata": {},
   "source": [
    "# Övning 3\n",
    "\n",
    "Implementera två enkla numeriska root lösare\n",
    "\n",
    "- Bisektion\n",
    "- Newtons metod"
   ]
  },
  {
   "cell_type": "markdown",
   "metadata": {},
   "source": [
    "## Algoritmer för ekvationslösning\n",
    "\n",
    "Det finns många algoritmer för att hitta nollställen $x_0$\n",
    "$$\n",
    "f(x_0) = 0\n",
    "$$\n",
    "till en given fukntion $f(x)$.\n",
    "\n",
    "<https://en.wikipedia.org/wiki/Root-finding_algorithms>"
   ]
  },
  {
   "cell_type": "markdown",
   "metadata": {},
   "source": [
    "## Bisektion\n",
    "\n",
    "<https://en.wikipedia.org/wiki/Bisection>\n",
    "\n",
    "Är en enkel och robust algoritm.\n",
    "\n",
    "Givet ett intervall $$x \\in [a, b]$$ där $$\\text{sign}(f(a)) \\ne \\text{sign}(f(b)) \\, ,$$ som innehåller ett nollställe $x_0$. \n",
    "\n",
    "Så kan $x_0$ bestämmas med noggranhet $\\epsilon$ genom att:\n",
    "\n",
    "1. Utvärdera funktionen i mitten på intervallet $c = \\frac{a + b}{2}$\n",
    "2. Om $\\text{sign}(f(a)) == \\text{sign}(f(c))$\n",
    "   - Ersätt $a$ med $c$, $a = c$\n",
    "   \n",
    "   Om inte, måste $\\text{sign}(f(b)) == \\text{sign}(f(c))$ gälla\n",
    "   - Ersätt då $b$ med $c$, $b = c$\n",
    "   \n",
    "   \n",
    "3. Om $|b - a| < \\epsilon$ returnera root approximationen $x_0 \\approx \\frac{a + b}{2}$\n",
    "4. Gå till punkt 1."
   ]
  },
  {
   "cell_type": "markdown",
   "metadata": {},
   "source": [
    "### Uppgift 1a\n",
    "\n",
    "Skrive en egen implementation av bisektions-algoritmen i en funktion\n",
    "\n",
    "```octave\n",
    "function x_root = bisektion(f, a, b, eps)\n",
    "    ...\n",
    "end\n",
    "```\n",
    "\n",
    "som tar en funktion `f`, intervallgränserna `a` och `b`, samt noggranheten `eps` och returnerar rotlösningen `x_root`.\n",
    "\n",
    "### Uppgift 1b\n",
    "\n",
    "Använd din fuktion för att bestämma nollstället till funktionen\n",
    "\n",
    "$$\n",
    "g(x) = x + \\sqrt{3} \\cos x\n",
    "$$"
   ]
  },
  {
   "cell_type": "code",
   "execution_count": 3,
   "metadata": {},
   "outputs": [
    {
     "data": {
      "image/png": "[encoded data removed]",
      "text/plain": [
       "<IPython.core.display.Image object>"
      ]
     },
     "metadata": {},
     "output_type": "display_data"
    }
   ],
   "source": [
    "g = @(x) x + sqrt(3) * cos(x);\n",
    "x = linspace(-10, 10, 400);\n",
    "\n",
    "plot(x, g(x))\n",
    "grid('on')"
   ]
  },
  {
   "cell_type": "markdown",
   "metadata": {},
   "source": [
    "## Newtons metod\n",
    "\n",
    "<https://en.wikipedia.org/wiki/Newton%27s_method> \n",
    "\n",
    "Newtons metod är baserad på användning av derivatan $\\frac{df(x)}{dx} = f'(x)$ av funktionen $f(x)$ vars rot söks.\n",
    "\n",
    "Om derivatan är känd kan den användas direkt. Om inte, så kan derivatan approximeras med\n",
    "\n",
    "$$\n",
    "f'(x) \\approx \\frac{f(x + h) - f(x)}{h}\n",
    "$$\n",
    "\n",
    "för ett litet värde på $h$, $0 < h \\ll 1$.\n",
    "\n",
    "Genom att göra en linjär approximation av funktionen $f(x)$ i en given punkt $x_n$ väljs nästa punkt $x_{n+1}$ som den linjära funktionens nollställe\n",
    "\n",
    "$$\n",
    "x_{n+1} = x_n - \\frac{f(x_n)}{f'(x_n)}\n",
    "\\, .\n",
    "$$\n",
    "\n",
    "En rot $x$ kan bestämmas med noggranhet $|f(x)| < \\epsilon$ genom att\n",
    "\n",
    "1. Givet en gissning $x_n$ till roten\n",
    "2. Approximera derivatan i punkten $f'(x_n) \\approx \\frac{f(x_n + h) - f(x_n)}{h}$\n",
    "3. Beräkna en ny gissning $x_{n+1}$ genom $x_{n+1} =  x_n - \\frac{f(x_n)}{f'(x_n)}$\n",
    "4. Om $|f(x_{n+1})| < \\epsilon$ returnera rot-approximationen $x_{n+1}$\n",
    "5. Gå till punk 1 men använd $x_{n+1}$ som en ny gissning"
   ]
  },
  {
   "cell_type": "markdown",
   "metadata": {},
   "source": [
    "### Uppgift 2a\n",
    "\n",
    "Skrive en egen implementation av Newtons-algoritm i en funktion\n",
    "\n",
    "```octave\n",
    "function x_root = newton(f, x0, h, eps)\n",
    "    ...\n",
    "end\n",
    "```\n",
    "\n",
    "som tar en funktion `f`, intervallgränserna, en inital rot-gissning `x0`, steglängden för derivata approximationen `h`, samt noggranheten `eps` och returnerar rotlösningen `x_root`.\n",
    "\n",
    "### Uppgift 2b\n",
    "\n",
    "Använd din fuktion för att bestämma nollstället till funktionen\n",
    "\n",
    "$$\n",
    "h(x) = \\sqrt{2} \\tanh x - 1\n",
    "$$"
   ]
  },
  {
   "cell_type": "code",
   "execution_count": 4,
   "metadata": {},
   "outputs": [
    {
     "data": {
      "image/png": "[encoded data removed]",
      "text/plain": [
       "<IPython.core.display.Image object>"
      ]
     },
     "metadata": {},
     "output_type": "display_data"
    }
   ],
   "source": [
    "h = @(x) sqrt(2) * tanh(x) - 1;\n",
    "plot(x, h(x))\n",
    "grid('on')"
   ]
  }
 ],
 "metadata": {
  "kernelspec": {
   "display_name": "Matlab",
   "language": "matlab",
   "name": "matlab"
  },
  "language_info": {
   "codemirror_mode": "octave",
   "file_extension": ".m",
   "help_links": [
    {
     "text": "MetaKernel Magics",
     "url": "https://metakernel.readthedocs.io/en/latest/source/README.html"
    }
   ],
   "mimetype": "text/x-octave",
   "name": "matlab",
   "version": "0.16.11"
  }
 },
 "nbformat": 4,
 "nbformat_minor": 4
}
