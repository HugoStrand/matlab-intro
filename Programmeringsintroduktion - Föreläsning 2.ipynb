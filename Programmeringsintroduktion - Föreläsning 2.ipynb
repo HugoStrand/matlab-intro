{
 "cells": [
  {
   "cell_type": "code",
   "execution_count": 3,
   "metadata": {
    "slideshow": {
     "slide_type": "skip"
    }
   },
   "outputs": [],
   "source": [
    "format compact"
   ]
  },
  {
   "cell_type": "markdown",
   "metadata": {
    "slideshow": {
     "slide_type": "slide"
    }
   },
   "source": [
    "# Föreläsning 2\n",
    "### Matlab Programmering, en introduktion"
   ]
  },
  {
   "cell_type": "markdown",
   "metadata": {},
   "source": [
    "\n",
    "Syntax\n",
    "- Funktioner\n",
    "- Funktionsanrop\n",
    "\n",
    "- Argument\n",
    "\n",
    "- Resultat värden\n",
    "- Multipla resultat"
   ]
  },
  {
   "cell_type": "markdown",
   "metadata": {
    "slideshow": {
     "slide_type": "subslide"
    }
   },
   "source": [
    "Koncept\n",
    "- Nestade funktioner: Funktioner som anropar funktioner\n",
    "- Rekursiva funktioner: Funktion som anropar sig själv\n",
    "\n",
    "Exempel\n",
    "- Algoritmer\n",
    "  - Fibonacci\n",
    "  - Sortering\n",
    "  - Bisection\n",
    "  - Fraktaler, Barnsley fern?"
   ]
  },
  {
   "cell_type": "markdown",
   "metadata": {
    "slideshow": {
     "slide_type": "slide"
    }
   },
   "source": [
    "# Funktioner\n",
    "\n",
    "I Matlab\n",
    "\n",
    "- I MATLAB måste varje funktion definieras i en separat fil\n",
    "- Filen måste ha samman namn som funktionen och ha filändelse `.m`,\n",
    "  t.ex. `my_function.m`"
   ]
  },
  {
   "cell_type": "code",
   "execution_count": 1,
   "metadata": {},
   "outputs": [
    {
     "name": "stdout",
     "output_type": "stream",
     "text": [
      "Created file '/Users/hugstr/oru/Teaching/IntroProg_Matematikprogrammet@ORU/LectureDrafts/my_function.m'.\n"
     ]
    }
   ],
   "source": [
    "%%file my_function.m\n",
    "\n",
    "function my_function()\n",
    "    disp('Hi from my_function!')\n",
    "end"
   ]
  },
  {
   "cell_type": "code",
   "execution_count": 4,
   "metadata": {},
   "outputs": [
    {
     "name": "stdout",
     "output_type": "stream",
     "text": [
      "Hi from my_function!\n"
     ]
    }
   ],
   "source": [
    "my_function()"
   ]
  },
  {
   "cell_type": "markdown",
   "metadata": {
    "slideshow": {
     "slide_type": "subslide"
    }
   },
   "source": [
    "# Funktions-argument\n",
    "\n",
    "- Skicka variabler som input till en funktion"
   ]
  },
  {
   "cell_type": "code",
   "execution_count": 5,
   "metadata": {},
   "outputs": [
    {
     "name": "stdout",
     "output_type": "stream",
     "text": [
      "Created file '/Users/hugstr/oru/Teaching/IntroProg_Matematikprogrammet@ORU/LectureDrafts/my_function_with_arguments.m'.\n"
     ]
    }
   ],
   "source": [
    "%%file my_function_with_arguments.m\n",
    "\n",
    "function my_function_with_arguments(name, index, number)\n",
    "    disp(\"Hi from my_function_with_arguments\")\n",
    "    disp(\"name = \" + name)\n",
    "    disp(\"index = \" + num2str(index))\n",
    "    disp(\"number = \" + num2str(number))\n",
    "end"
   ]
  },
  {
   "cell_type": "code",
   "execution_count": 6,
   "metadata": {},
   "outputs": [
    {
     "name": "stdout",
     "output_type": "stream",
     "text": [
      "Hi from my_function_with_arguments\n",
      "name = Ada\n",
      "index = 42\n",
      "number = 13.37\n"
     ]
    }
   ],
   "source": [
    "my_function_with_arguments(\"Ada\", 42, 13.37)"
   ]
  },
  {
   "cell_type": "markdown",
   "metadata": {
    "slideshow": {
     "slide_type": "subslide"
    }
   },
   "source": [
    "# Funktions-resultat (return values)\n",
    "\n",
    "En funktion kan också returnera resultat genom resultatvärden."
   ]
  },
  {
   "cell_type": "code",
   "execution_count": 7,
   "metadata": {},
   "outputs": [
    {
     "name": "stdout",
     "output_type": "stream",
     "text": [
      "Created file '/Users/hugstr/oru/Teaching/IntroProg_Matematikprogrammet@ORU/LectureDrafts/my_function_with_return.m'.\n"
     ]
    }
   ],
   "source": [
    "%%file my_function_with_return.m\n",
    "\n",
    "function A = my_function_with_return()\n",
    "    A = 'Result from the function my_function_with_return!';\n",
    "end"
   ]
  },
  {
   "cell_type": "code",
   "execution_count": 8,
   "metadata": {},
   "outputs": [
    {
     "name": "stdout",
     "output_type": "stream",
     "text": [
      "message =\n",
      "    'Result from the function my_function_with_return!'\n"
     ]
    }
   ],
   "source": [
    "message = my_function_with_return();\n",
    "message"
   ]
  },
  {
   "cell_type": "markdown",
   "metadata": {
    "slideshow": {
     "slide_type": "subslide"
    }
   },
   "source": [
    "# Multipla funktions-resultat (return values)\n",
    "\n",
    "Returnera flera resultat med multipla resultatvärden."
   ]
  },
  {
   "cell_type": "code",
   "execution_count": 9,
   "metadata": {
    "slideshow": {
     "slide_type": "-"
    }
   },
   "outputs": [
    {
     "name": "stdout",
     "output_type": "stream",
     "text": [
      "Created file '/Users/hugstr/oru/Teaching/IntroProg_Matematikprogrammet@ORU/LectureDrafts/my_function_with_multiple_returns.m'.\n"
     ]
    }
   ],
   "source": [
    "%%file my_function_with_multiple_returns.m\n",
    "\n",
    "function [name, index, value] = my_function_with_multiple_returns()\n",
    "    name = 'Ada Lovelace';\n",
    "    index = 42;\n",
    "    value = 13.37;\n",
    "end"
   ]
  },
  {
   "cell_type": "code",
   "execution_count": 10,
   "metadata": {},
   "outputs": [
    {
     "name": "stdout",
     "output_type": "stream",
     "text": [
      "n =\n",
      "    'Ada Lovelace'\n",
      "i =\n",
      "    42\n",
      "v =\n",
      "   13.3700\n"
     ]
    }
   ],
   "source": [
    "[n, i, v] = my_function_with_multiple_returns();\n",
    "n\n",
    "i\n",
    "v"
   ]
  },
  {
   "cell_type": "markdown",
   "metadata": {
    "slideshow": {
     "slide_type": "subslide"
    }
   },
   "source": [
    "# Anonyma funktioner\n",
    "\n",
    "Enkla funktioner kan definieras som anonyma funktioner\n",
    "\n",
    "Exempel: Implementera funktionen $h(x)$ definierad som\n",
    "$$\n",
    "h(x) = x^2 + x + 1\n",
    "$$"
   ]
  },
  {
   "cell_type": "code",
   "execution_count": 11,
   "metadata": {},
   "outputs": [
    {
     "name": "stdout",
     "output_type": "stream",
     "text": [
      "ans =\n",
      "    3.6400\n"
     ]
    }
   ],
   "source": [
    "h = @(x) x^2 + x + 1;\n",
    "\n",
    "h(1.2)"
   ]
  },
  {
   "cell_type": "markdown",
   "metadata": {
    "slideshow": {
     "slide_type": "slide"
    }
   },
   "source": [
    "# Funktions-koncept\n",
    "\n",
    "- Nestade funktioner: Funktioner som anropar andra funktioner\n",
    "- Rekursiva funktioner: Funktioner som anropar sig själva"
   ]
  },
  {
   "cell_type": "markdown",
   "metadata": {
    "slideshow": {
     "slide_type": "subslide"
    }
   },
   "source": [
    "# \"Nestade\" funktioner\n",
    "\n",
    "Funktion, som anropar funktion, som anropar funktion, ..."
   ]
  },
  {
   "cell_type": "code",
   "execution_count": 12,
   "metadata": {},
   "outputs": [
    {
     "name": "stdout",
     "output_type": "stream",
     "text": [
      "Created file '/Users/hugstr/oru/Teaching/IntroProg_Matematikprogrammet@ORU/LectureDrafts/A.m'.\n"
     ]
    }
   ],
   "source": [
    "%%file A.m\n",
    "\n",
    "function A()\n",
    "    disp('Function A, calling function B')\n",
    "    B()\n",
    "    disp(\"Function A done\")\n",
    "end"
   ]
  },
  {
   "cell_type": "code",
   "execution_count": 13,
   "metadata": {},
   "outputs": [
    {
     "name": "stdout",
     "output_type": "stream",
     "text": [
      "Created file '/Users/hugstr/oru/Teaching/IntroProg_Matematikprogrammet@ORU/LectureDrafts/B.m'.\n"
     ]
    }
   ],
   "source": [
    "%%file B.m\n",
    "\n",
    "function B()\n",
    "    disp(\"Function B, calling function C\")\n",
    "    C()\n",
    "    disp(\"Function B done\")\n",
    "end    "
   ]
  },
  {
   "cell_type": "code",
   "execution_count": 14,
   "metadata": {},
   "outputs": [
    {
     "name": "stdout",
     "output_type": "stream",
     "text": [
      "Created file '/Users/hugstr/oru/Teaching/IntroProg_Matematikprogrammet@ORU/LectureDrafts/C.m'.\n"
     ]
    }
   ],
   "source": [
    "%%file C.m\n",
    "\n",
    "function C()\n",
    "    disp(\"Function C\")\n",
    "end"
   ]
  },
  {
   "cell_type": "code",
   "execution_count": 15,
   "metadata": {},
   "outputs": [
    {
     "name": "stdout",
     "output_type": "stream",
     "text": [
      "Function A, calling function B\n",
      "Function B, calling function C\n",
      "Function C\n",
      "Function B done\n",
      "Function A done\n"
     ]
    }
   ],
   "source": [
    "A()"
   ]
  },
  {
   "cell_type": "markdown",
   "metadata": {
    "slideshow": {
     "slide_type": "slide"
    }
   },
   "source": [
    "# Rekursion\n",
    "\n",
    "Programmeringskoncept baserat på en funktion som anropar sig själv, detta kallas för ett rekursivt funktionsanrop.\n",
    "\n",
    "Antalet **rekursioner** kan inte vara oändligt många, dvs. det krävs något som terminerar rekursionen."
   ]
  },
  {
   "cell_type": "markdown",
   "metadata": {
    "slideshow": {
     "slide_type": "subslide"
    }
   },
   "source": [
    "## Exempel\n",
    "\n",
    "Definiera funktionen $f(n)$ enligt\n",
    "$$\n",
    "f(1) = 1 \\\\\n",
    "f(n) = n + f(n - 1)\n",
    "$$\n",
    "\n",
    "Detta är en **rekursiv definition** efterson värdet på $f(n)$ definierats genom värdet på $f(n - 1)$.\n",
    "\n",
    "För ett givet positivt heltal $n$ kan denna rekursiva definiton appliceras om och om igen kommer $n - 1$ att till slut bli lika med 1 och rekursionen kan termineras med hjälp av den första definitionen $f(1) = 1$."
   ]
  },
  {
   "cell_type": "code",
   "execution_count": 16,
   "metadata": {
    "slideshow": {
     "slide_type": "fragment"
    }
   },
   "outputs": [
    {
     "name": "stdout",
     "output_type": "stream",
     "text": [
      "Created file '/Users/hugstr/oru/Teaching/IntroProg_Matematikprogrammet@ORU/LectureDrafts/f.m'.\n"
     ]
    }
   ],
   "source": [
    "%%file f.m\n",
    "\n",
    "function m = f(n)\n",
    "    if n == 1\n",
    "        m = 1;\n",
    "    else\n",
    "        m = n + f(n - 1);\n",
    "    end\n",
    "end"
   ]
  },
  {
   "cell_type": "code",
   "execution_count": 17,
   "metadata": {},
   "outputs": [
    {
     "name": "stdout",
     "output_type": "stream",
     "text": [
      "ans =\n",
      "    55\n"
     ]
    }
   ],
   "source": [
    "f(10)"
   ]
  },
  {
   "cell_type": "markdown",
   "metadata": {
    "slideshow": {
     "slide_type": "subslide"
    }
   },
   "source": [
    "# Iterativ implementation av rekursion\n",
    "\n",
    "- Rekursion är ett kraftfullt matematiskt koncept.\n",
    "- Kan hantera oändliga rekursiva serier\n",
    "\n",
    "I många fall kan dock en rekursiv algoritm omformuleras i form av en iterativ algoritm."
   ]
  },
  {
   "cell_type": "markdown",
   "metadata": {
    "slideshow": {
     "slide_type": "subslide"
    }
   },
   "source": [
    "Betrakta det tidigare exemplet\n",
    "$$\n",
    "f(1) = 1 \\\\\n",
    "f(n) = n + f(n - 1)\n",
    "$$\n",
    "Detta kan skrivas om som\n",
    "$$\n",
    "f(n) = n + (n - 1)  + \\dots + 2 + 1 \n",
    "\\\\\n",
    "= 1 + 2 + \\dots + (n - 1) + n\n",
    "$$\n",
    "dvs. summan av alla tal från 1 till n. \n",
    "\n",
    "Detta kan implementeras med en direkt `for`-loop."
   ]
  },
  {
   "cell_type": "code",
   "execution_count": 18,
   "metadata": {},
   "outputs": [
    {
     "name": "stdout",
     "output_type": "stream",
     "text": [
      "Created file '/Users/hugstr/oru/Teaching/IntroProg_Matematikprogrammet@ORU/LectureDrafts/f_iterative.m'.\n"
     ]
    }
   ],
   "source": [
    "%%file f_iterative.m\n",
    "\n",
    "function m = f_iterative(n)\n",
    "    m = 0;\n",
    "    for k = 1:n\n",
    "        m = m + k;\n",
    "    end\n",
    "end"
   ]
  },
  {
   "cell_type": "code",
   "execution_count": 19,
   "metadata": {},
   "outputs": [
    {
     "name": "stdout",
     "output_type": "stream",
     "text": [
      "ans =\n",
      "    55\n",
      "ans =\n",
      "    55\n"
     ]
    }
   ],
   "source": [
    "f(10)\n",
    "f_iterative(10)"
   ]
  },
  {
   "cell_type": "markdown",
   "metadata": {
    "slideshow": {
     "slide_type": "slide"
    }
   },
   "source": [
    "# Fibonacci serien $F_n$\n",
    "\n",
    "En talserie som dyker upp på många ställen i matematiken <https://en.wikipedia.org/wiki/Fibonacci_number>\n",
    "\n",
    "Definition (obs! rekursiv)\n",
    "$$\n",
    "F_0 = 0 \\\\\n",
    "F_1 = 1 \\\\\n",
    "F_n = F_{n-1} + F_{n-2}\n",
    "$$\n",
    "De första talen i serien är\n",
    "$$ 0, 1, 1, 2, 3, 5, 8, 13, 21, 34, 55, 89, 144 $$"
   ]
  },
  {
   "cell_type": "code",
   "execution_count": 20,
   "metadata": {
    "slideshow": {
     "slide_type": "fragment"
    }
   },
   "outputs": [
    {
     "name": "stdout",
     "output_type": "stream",
     "text": [
      "Created file '/Users/hugstr/oru/Teaching/IntroProg_Matematikprogrammet@ORU/LectureDrafts/fibonacci_recursive.m'.\n"
     ]
    }
   ],
   "source": [
    "%%file fibonacci_recursive.m\n",
    "\n",
    "function F_N = fibonacci_recursive(N)\n",
    "  if N > 1\n",
    "    F_N = fibonacci_recursive(N - 1) + fibonacci_recursive(N - 2);\n",
    "  else\n",
    "    F_N = N;\n",
    "  end\n",
    "end"
   ]
  },
  {
   "cell_type": "code",
   "execution_count": 21,
   "metadata": {},
   "outputs": [
    {
     "name": "stdout",
     "output_type": "stream",
     "text": [
      "F =\n",
      "     0     1     1     2     3     5     8    13    21    34    55\n"
     ]
    }
   ],
   "source": [
    "F = [];\n",
    "for n = 0:10\n",
    "  F(n+1) = fibonacci_recursive(n);\n",
    "end\n",
    "F"
   ]
  },
  {
   "cell_type": "code",
   "execution_count": 22,
   "metadata": {
    "slideshow": {
     "slide_type": "subslide"
    }
   },
   "outputs": [
    {
     "name": "stdout",
     "output_type": "stream",
     "text": [
      "Created file '/Users/hugstr/oru/Teaching/IntroProg_Matematikprogrammet@ORU/LectureDrafts/fibonacci_iterative.m'.\n"
     ]
    }
   ],
   "source": [
    "%%file fibonacci_iterative.m\n",
    "\n",
    "function F = fibonacci_iterative(N)\n",
    "  if N < 2\n",
    "    F = N;\n",
    "  else\n",
    "    F_Nm2 = 0;\n",
    "    F_Nm1 = 1;\n",
    "    for n = 2:N\n",
    "      F = F_Nm1 + F_Nm2;\n",
    "      F_Nm2 = F_Nm1;\n",
    "      F_Nm1 = F;\n",
    "    end\n",
    "  end\n",
    "end"
   ]
  },
  {
   "cell_type": "code",
   "execution_count": 23,
   "metadata": {},
   "outputs": [
    {
     "name": "stdout",
     "output_type": "stream",
     "text": [
      "F =\n",
      "     0     1     1     2     3     5     8    13    21    34    55\n"
     ]
    }
   ],
   "source": [
    "F = [];\n",
    "for n = 0:10\n",
    "  F(n+1) = fibonacci_iterative(n);\n",
    "end\n",
    "F"
   ]
  },
  {
   "cell_type": "code",
   "execution_count": 24,
   "metadata": {
    "slideshow": {
     "slide_type": "subslide"
    }
   },
   "outputs": [
    {
     "name": "stdout",
     "output_type": "stream",
     "text": [
      "Created file '/Users/hugstr/oru/Teaching/IntroProg_Matematikprogrammet@ORU/LectureDrafts/fibonacci_vector.m'.\n"
     ]
    }
   ],
   "source": [
    "%%file fibonacci_vector.m\n",
    "\n",
    "function F = fibonacci_vector(N)\n",
    "  if N == 0\n",
    "    F = [0];\n",
    "  else\n",
    "    F = [0, 1];\n",
    "    for n = 2:N\n",
    "      F(n+1) = F(n) + F(n-1);\n",
    "    end\n",
    "  end\n",
    "end"
   ]
  },
  {
   "cell_type": "code",
   "execution_count": 26,
   "metadata": {},
   "outputs": [
    {
     "name": "stdout",
     "output_type": "stream",
     "text": [
      "ans =\n",
      "     0     1     1     2     3     5     8    13    21    34    55\n"
     ]
    }
   ],
   "source": [
    "fibonacci_vector(10)"
   ]
  },
  {
   "cell_type": "markdown",
   "metadata": {
    "slideshow": {
     "slide_type": "slide"
    }
   },
   "source": [
    "# Algoritmer\n",
    "\n",
    "Programmatiska recept för att lösa specifika problem\n",
    "\n",
    "Exempel\n",
    "- Sortera en lista av tal $[8, 4, 6, 1]$\n",
    "- Hitta lösningen $x$ till en ekvation $g(x) = 0$"
   ]
  },
  {
   "cell_type": "markdown",
   "metadata": {
    "slideshow": {
     "slide_type": "subslide"
    }
   },
   "source": [
    "Det finns många algoritmer för att lösa dessa problem. De olika algoritmern har olika styrkor och svagheter.\n",
    "\n",
    "**OBS!** I MATLAB finns färdiga funktioner som löser dessa problem med de mest robusta och effektiva algoritmerna."
   ]
  },
  {
   "cell_type": "code",
   "execution_count": 27,
   "metadata": {},
   "outputs": [
    {
     "name": "stdout",
     "output_type": "stream",
     "text": [
      "ans =\n",
      "     1     4     6     8\n"
     ]
    }
   ],
   "source": [
    "l = [8, 4, 6, 1];\n",
    "sort(l)"
   ]
  },
  {
   "cell_type": "code",
   "execution_count": 35,
   "metadata": {
    "slideshow": {
     "slide_type": "subslide"
    }
   },
   "outputs": [
    {
     "name": "stdout",
     "output_type": "stream",
     "text": [
      "\n",
      "Equation solved.\n",
      "\n",
      "fsolve completed because the vector of function values is near zero\n",
      "as measured by the value of the function tolerance, and\n",
      "the problem appears regular as measured by the gradient.\n",
      "\n",
      "x0 =\n",
      "    1.2056\n"
     ]
    }
   ],
   "source": [
    "g = @(x) x.^3 + x.^2 - x - 2;\n",
    "x0 = fsolve(g, 3.);\n",
    "x0"
   ]
  },
  {
   "cell_type": "code",
   "execution_count": 29,
   "metadata": {},
   "outputs": [
    {
     "data": {
      "image/png": "[encoded data removed]",
      "text/plain": [
       "<IPython.core.display.Image object>"
      ]
     },
     "metadata": {},
     "output_type": "display_data"
    }
   ],
   "source": [
    "x = linspace(-2, 2, 100);\n",
    "plot(x, g(x))\n",
    "hold on\n",
    "plot(x0, 0., 'or')\n",
    "plot(x, 0.*x, '-k')\n",
    "legend('h(x)', 'h(x)=0')\n",
    "xlabel('x')"
   ]
  },
  {
   "cell_type": "markdown",
   "metadata": {
    "slideshow": {
     "slide_type": "subslide"
    }
   },
   "source": [
    "# Sorterings algoritmer\n",
    "\n",
    "<https://en.wikipedia.org/wiki/Sorting_algorithm>\n",
    "\n",
    "## Bubble sort\n",
    "\n",
    "Givet en oordnad lista $l$ av tal\n",
    "\n",
    "Starta med förtsa paret av tal i listan\n",
    "1. Jämför paret av tal\n",
    "2. Byt position på talen, om paret inte är ordnat\n",
    "3. Tag nästa par i listan och gå till punkt 1.\n",
    "\n",
    "Repetera proceduren $n-1$ gånger, där $n$ är antal element i listan $l$."
   ]
  },
  {
   "cell_type": "code",
   "execution_count": 30,
   "metadata": {
    "slideshow": {
     "slide_type": "subslide"
    }
   },
   "outputs": [
    {
     "name": "stdout",
     "output_type": "stream",
     "text": [
      "Created file '/Users/hugstr/oru/Teaching/IntroProg_Matematikprogrammet@ORU/LectureDrafts/bubble_sort.m'.\n"
     ]
    }
   ],
   "source": [
    "%%file bubble_sort.m\n",
    "\n",
    "function s = bubble_sort(l)\n",
    "    s = zeros(size(l));\n",
    "    s(:) = l;\n",
    "    for i = 1:length(l)-1\n",
    "        for j = 1:length(l)-1\n",
    "           if s(j) > s(j+1)\n",
    "               % Exchange positions of the two numbers\n",
    "               tmp = s(j);\n",
    "               s(j) = s(j + 1);\n",
    "               s(j + 1) = tmp;\n",
    "           end\n",
    "        end\n",
    "    end\n",
    "end"
   ]
  },
  {
   "cell_type": "code",
   "execution_count": 31,
   "metadata": {},
   "outputs": [
    {
     "name": "stdout",
     "output_type": "stream",
     "text": [
      "s =\n",
      "     1     4     6     8\n"
     ]
    }
   ],
   "source": [
    "l = [8, 4, 6, 1];\n",
    "s = bubble_sort(l)"
   ]
  },
  {
   "cell_type": "code",
   "execution_count": 32,
   "metadata": {
    "slideshow": {
     "slide_type": "skip"
    }
   },
   "outputs": [],
   "source": [
    "% Testa bubble_sort med sort funktionen\n",
    "l = randn(1, 100);\n",
    "assert(all(sort(l) == bubble_sort(l)))"
   ]
  },
  {
   "cell_type": "markdown",
   "metadata": {
    "slideshow": {
     "slide_type": "subslide"
    }
   },
   "source": [
    "# Algoritmer för ekvationslösning\n",
    "\n",
    "Det finns många algoritmer för att hitta nollställen $x_0$\n",
    "$$\n",
    "f(x_0) = 0\n",
    "$$\n",
    "till en given fukntion $f(x)$.\n",
    "\n",
    "<https://en.wikipedia.org/wiki/Root-finding_algorithms>"
   ]
  },
  {
   "cell_type": "markdown",
   "metadata": {
    "slideshow": {
     "slide_type": "subslide"
    }
   },
   "source": [
    "## Bisektion\n",
    "\n",
    "Är en enkel och robust algoritm.\n",
    "\n",
    "Givet ett intervall $$x \\in [a, b]$$ där $$\\text{sign}(f(a)) \\ne \\text{sign}(f(b)) \\, ,$$ som innehåller ett nollställe $x_0$. \n",
    "\n",
    "Så kan $x_0$ bestämmas med noggranhet $\\epsilon$ genom att:\n",
    "\n",
    "1. Utvärdera funktionen i mitten på intervallet $c = \\frac{a + b}{2}$\n",
    "2. Om $\\text{sign}(f(a)) == \\text{sign}(f(c))$\n",
    "   - Ersätt $a$ med $c$, $a = c$\n",
    "   \n",
    "   Om inte, måste $\\text{sign}(f(b)) == \\text{sign}(f(c))$ gälla\n",
    "   - Ersätt då $b$ med $c$, $b = c$\n",
    "   \n",
    "   \n",
    "3. Om $|b - a| < \\epsilon$ avsluta\n",
    "4. Gå till punkt 1."
   ]
  },
  {
   "cell_type": "code",
   "execution_count": 33,
   "metadata": {
    "slideshow": {
     "slide_type": "subslide"
    }
   },
   "outputs": [
    {
     "name": "stdout",
     "output_type": "stream",
     "text": [
      "Created file '/Users/hugstr/oru/Teaching/IntroProg_Matematikprogrammet@ORU/LectureDrafts/my_bisection.m'.\n"
     ]
    }
   ],
   "source": [
    "%%file my_bisection.m\n",
    "\n",
    "function x0 = my_bisection(f, a, b, eps)\n",
    "    assert(a < b)\n",
    "    f_a = f(a);\n",
    "    f_b = f(b);\n",
    "    assert(sign(f_a) ~= sign(f_b))\n",
    "    err = inf;\n",
    "    while abs(err) > eps\n",
    "        c = (a + b) / 2.;\n",
    "        f_c = f(c);\n",
    "        if sign(f_c) == sign(f_a)\n",
    "            a = c;\n",
    "            f_a = f_c;\n",
    "        else\n",
    "            b = c;\n",
    "            f_b = f_c;\n",
    "        end\n",
    "        err = b - a;\n",
    "    end\n",
    "    x0 = (a + b) / 2.;\n",
    "end"
   ]
  },
  {
   "cell_type": "code",
   "execution_count": 36,
   "metadata": {
    "scrolled": true
   },
   "outputs": [
    {
     "name": "stdout",
     "output_type": "stream",
     "text": [
      "x0 =\n",
      "    1.2056\n",
      "x0_bs =\n",
      "    1.2056\n"
     ]
    }
   ],
   "source": [
    "x0\n",
    "x0_bs = my_bisection(g, 0.5, 1.5, 0.001)"
   ]
  },
  {
   "cell_type": "markdown",
   "metadata": {
    "slideshow": {
     "slide_type": "slide"
    }
   },
   "source": [
    "# Koch snöflingan\n",
    "\n",
    "<https://en.wikipedia.org/wiki/Koch_snowflake>\n",
    "\n",
    "är en själv-similär fraktal.\n",
    "\n",
    "<https://en.wikipedia.org/wiki/Self-similarity>\n",
    "\n",
    "Den kan konstrueras iterativt genom att\n",
    "\n",
    "1. Givet en linje mellan två punkter\n",
    "2. Dela upp linjen i fyra nya linjer med 1/3 av linjens längd, enl. figur nedan.\n",
    "3. För varje nytt linje-segment repetera proceduren från punkt 1.\n",
    "\n",
    "<img src=\"koch_steps.svg\" witdh=\"900\" height=\"900\">"
   ]
  },
  {
   "cell_type": "code",
   "execution_count": 37,
   "metadata": {
    "slideshow": {
     "slide_type": "skip"
    }
   },
   "outputs": [
    {
     "data": {
      "image/png": "[encoded data removed]",
      "text/plain": [
       "<IPython.core.display.Image object>"
      ]
     },
     "metadata": {},
     "output_type": "display_data"
    }
   ],
   "source": [
    "v = [[-1; 0], [+1; 0]];\n",
    "\n",
    "fig = figure();\n",
    "N = 3;\n",
    "for i = 1:N\n",
    "    subplot(1, N, i)\n",
    "    plot(v(1, :), v(2, :), '.-k')\n",
    "    xlim([-1.5, 1.5])\n",
    "    ylim([-1.5, 1.5])\n",
    "    axis('square')\n",
    "    axis('off')\n",
    "    v = koch(v, 1, +1);\n",
    "end\n",
    "\n",
    "print(fig, '-dsvg', 'koch_steps.svg')"
   ]
  },
  {
   "cell_type": "code",
   "execution_count": 49,
   "metadata": {
    "slideshow": {
     "slide_type": "subslide"
    }
   },
   "outputs": [],
   "source": [
    "v1 = [-1, -1/sqrt(3)]';\n",
    "v2 = [+1, -1/sqrt(3)]';\n",
    "v3 = [ 0.5, +2/sqrt(3)]';\n",
    "\n",
    "v_tri = [v1, v2, v3, v1];"
   ]
  },
  {
   "cell_type": "code",
   "execution_count": 50,
   "metadata": {},
   "outputs": [
    {
     "data": {
      "image/png": "[encoded data removed]",
      "text/plain": [
       "<IPython.core.display.Image object>"
      ]
     },
     "metadata": {},
     "output_type": "display_data"
    }
   ],
   "source": [
    "x = v_tri(1, :);\n",
    "y = v_tri(2, :);\n",
    "\n",
    "plot(x, y, '-k')\n",
    "xlim([-2, 2])\n",
    "ylim([-2, 2])\n",
    "axis('square')\n",
    "axis('off')"
   ]
  },
  {
   "cell_type": "code",
   "execution_count": 51,
   "metadata": {
    "slideshow": {
     "slide_type": "subslide"
    }
   },
   "outputs": [
    {
     "name": "stdout",
     "output_type": "stream",
     "text": [
      "Created file '/Users/hugstr/oru/Teaching/IntroProg_Matematikprogrammet@ORU/LectureDrafts/koch.m'.\n"
     ]
    }
   ],
   "source": [
    "%%file koch.m\n",
    "\n",
    "function v = koch(v_start, steps, dir)\n",
    "\n",
    "v = v_start;\n",
    "\n",
    "R = dir * [0, -1; 1, 0]; % Rotation matrix\n",
    "\n",
    "for i = 1:steps\n",
    "    vn = [[]];\n",
    "    for j = 1:length(v) - 1\n",
    "      \n",
    "      v1 = v(:, j);\n",
    "      v2 = v(:, j + 1);\n",
    "\n",
    "      dv_para = 1/3 * (v2 - v1);\n",
    "      dv_orth = sqrt(3)/2 * R * dv_para;\n",
    "      \n",
    "      v3 = v1 + dv_para;\n",
    "      v4 = v2 - dv_para;\n",
    "      v5 = v3 + dv_para/2 + dv_orth;\n",
    "      \n",
    "      vv = [v1, v3, v5, v4];\n",
    "      vn = [vn, vv];\n",
    "    end\n",
    "    vn = [vn, v2];\n",
    "    v = vn;\n",
    "end\n",
    "\n",
    "end"
   ]
  },
  {
   "cell_type": "code",
   "execution_count": 52,
   "metadata": {
    "scrolled": false,
    "slideshow": {
     "slide_type": "subslide"
    }
   },
   "outputs": [
    {
     "data": {
      "image/png": "[encoded data removed]",
      "text/plain": [
       "<IPython.core.display.Image object>"
      ]
     },
     "metadata": {},
     "output_type": "display_data"
    }
   ],
   "source": [
    "figure()\n",
    "for N = 0:3\n",
    "    v = koch(v_tri, N, -1);\n",
    "    subplot(2, 2, N+1)\n",
    "    plot(v(1,:), v(2, :), '-k')\n",
    "    xlim([-1.5, 1.5])\n",
    "    ylim([-1.5, 1.5])\n",
    "    axis('square')\n",
    "    text(-1.25, 1, sprintf(\"N = %i\", N))\n",
    "end"
   ]
  },
  {
   "cell_type": "code",
   "execution_count": 43,
   "metadata": {
    "slideshow": {
     "slide_type": "subslide"
    }
   },
   "outputs": [
    {
     "data": {
      "image/png": "[encoded data removed]",
      "text/plain": [
       "<IPython.core.display.Image object>"
      ]
     },
     "metadata": {},
     "output_type": "display_data"
    }
   ],
   "source": [
    "v_flake = koch(v_tri, 6, -1);\n",
    "\n",
    "x = v_flake(1, :);\n",
    "y = v_flake(2, :);\n",
    "\n",
    "fig = figure();\n",
    "plot(x, y, '-k')\n",
    "xlim([-1.5, 1.5])\n",
    "ylim([-1.5, 1.5])\n",
    "axis('square')\n",
    "axis('off')\n",
    "\n",
    "print(fig, '-dsvg', 'koch.svg')"
   ]
  },
  {
   "cell_type": "code",
   "execution_count": 44,
   "metadata": {
    "slideshow": {
     "slide_type": "subslide"
    }
   },
   "outputs": [
    {
     "data": {
      "image/png": "[encoded data removed]",
      "text/plain": [
       "<IPython.core.display.Image object>"
      ]
     },
     "metadata": {},
     "output_type": "display_data"
    }
   ],
   "source": [
    "v_rev = koch(v_tri, 6, +1);\n",
    "\n",
    "x = v_rev(1, :);\n",
    "y = v_rev(2, :);\n",
    "\n",
    "fig = figure();\n",
    "plot(x, y, '-k')\n",
    "xlim([-1.5, 1.5])\n",
    "ylim([-1.5, 1.5])\n",
    "axis('square')\n",
    "axis('off')\n",
    "\n",
    "print(fig, '-dsvg', 'koch_rev.svg')"
   ]
  },
  {
   "cell_type": "markdown",
   "metadata": {
    "slideshow": {
     "slide_type": "slide"
    }
   },
   "source": [
    "# The Barnsley fern\n",
    "\n",
    "<https://en.wikipedia.org/wiki/Barnsley_fern>"
   ]
  },
  {
   "cell_type": "code",
   "execution_count": 45,
   "metadata": {},
   "outputs": [],
   "source": [
    "N = 100000;\n",
    "\n",
    "xy = [0; 0];\n",
    "fern = zeros(N, 2);\n",
    "\n",
    "f_1 = [0 0; 0 0.16];\n",
    "f_2 = [0.85 0.04; -0.04 0.85];\n",
    "f_3 = [0.2 -0.26; 0.23 0.22];\n",
    "f_4 = [-0.15 0.28; 0.26 0.24];\n",
    "\n",
    "P = randsample(1:4, N, true, [0.01 0.85 0.07 0.07]);\n",
    "\n",
    "for i = 2:N\n",
    "    p = P(i - 1);\n",
    "    if p == 1 % Stem\n",
    "        xy = f_1 * xy;\n",
    "    elseif p == 2 % Sub-leaflets\n",
    "        xy = f_2 * xy + [0; 1.6];\n",
    "    elseif p == 3 % Left leaflet\n",
    "        xy = f_3 * xy + [0; 1.6];\n",
    "    else % Right leaflet\n",
    "        xy = f_4 * xy + [0; 0.44];\n",
    "    end\n",
    "    \n",
    "    fern(i, 1) = xy(1);\n",
    "    fern(i, 2) = xy(2);\n",
    "end"
   ]
  },
  {
   "cell_type": "code",
   "execution_count": 46,
   "metadata": {
    "slideshow": {
     "slide_type": "subslide"
    }
   },
   "outputs": [
    {
     "data": {
      "image/png": "[encoded data removed]",
      "text/plain": [
       "<IPython.core.display.Image object>"
      ]
     },
     "metadata": {},
     "output_type": "display_data"
    }
   ],
   "source": [
    "fig = figure();\n",
    "\n",
    "darkgreen = [0, 0.5, 0];\n",
    "\n",
    "colormap(summer(N));\n",
    "set(gcf, 'Color', 'k', 'position', [10, 50, 800, 600]);\n",
    "s = scatter(fern(:, 1), fern(:, 2), 1.0, darkgreen, 'filled');\n",
    "alpha(s, 0.5)\n",
    "set(gca, 'Color', 'k');\n",
    "axis('image')\n",
    "axis('off')\n",
    "\n",
    "print(fig, '-dpng', 'barnsley.png', '-r600')"
   ]
  },
  {
   "cell_type": "markdown",
   "metadata": {
    "slideshow": {
     "slide_type": "slide"
    }
   },
   "source": [
    "# 3D fractal example\n",
    "\n",
    "<https://js1k.com/2016-elemental/demo/2552>\n",
    "\n",
    "Details\n",
    "<https://gist.github.com/literallylara/064b5dd878d803d6422a96cc046ea33f>\n"
   ]
  }
 ],
 "metadata": {
  "celltoolbar": "Slideshow",
  "kernelspec": {
   "display_name": "Matlab",
   "language": "matlab",
   "name": "matlab"
  },
  "language_info": {
   "codemirror_mode": "octave",
   "file_extension": ".m",
   "help_links": [
    {
     "text": "MetaKernel Magics",
     "url": "https://metakernel.readthedocs.io/en/latest/source/README.html"
    }
   ],
   "mimetype": "text/x-octave",
   "name": "matlab",
   "version": "0.16.11"
  }
 },
 "nbformat": 4,
 "nbformat_minor": 5
}
