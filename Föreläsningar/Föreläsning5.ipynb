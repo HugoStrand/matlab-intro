{
 "cells": [
  {
   "cell_type": "code",
   "execution_count": null,
   "metadata": {
    "slideshow": {
     "slide_type": "skip"
    }
   },
   "outputs": [],
   "source": [
    "format compact"
   ]
  },
  {
   "cell_type": "markdown",
   "metadata": {
    "slideshow": {
     "slide_type": "slide"
    }
   },
   "source": [
    "# Föreläsning 5\n",
    "### Matlab Programmering, en introduktion"
   ]
  },
  {
   "cell_type": "markdown",
   "metadata": {
    "slideshow": {
     "slide_type": "subslide"
    }
   },
   "source": [
    "Syntax\n",
    "\n",
    "- Multidimensionella arrayer\n",
    "- Creation\n",
    "- Indexering\n",
    "- Slicing\n",
    "- Joining\n",
    "- Broadcasting\n",
    "- Meshgrid\n",
    "- reductions, `sum`, `prod`, `cumsum`"
   ]
  },
  {
   "cell_type": "markdown",
   "metadata": {
    "slideshow": {
     "slide_type": "slide"
    }
   },
   "source": [
    "## En-dimensionella arrayer\n",
    "\n",
    "En-dimensionell array (eller lista)\n",
    "\n",
    "$$\n",
    "A = [a_1, a_2, a_3, ..., a_N] \\quad \\rightarrow \\quad A_i \\, , \\quad \\text{med } 1 \\le i \\le N\n",
    "$$\n",
    "\n",
    "där $N$ är antal element"
   ]
  },
  {
   "cell_type": "code",
   "execution_count": null,
   "metadata": {
    "slideshow": {
     "slide_type": "fragment"
    }
   },
   "outputs": [],
   "source": [
    "A = 1:10"
   ]
  },
  {
   "cell_type": "markdown",
   "metadata": {
    "slideshow": {
     "slide_type": "slide"
    }
   },
   "source": [
    "## Två-dimensionella arrayer\n",
    "\n",
    "En två-dimensionell array är en samling av tal\n",
    "\n",
    "$$\n",
    "A = \n",
    "\\left[\\begin{array}{ccc}\n",
    "A_{11} & A_{12} & ... & A_{1M} \\\\\n",
    "A_{21} & A_{22} & ... & A_{2M} \\\\\n",
    "\\vdots & \\vdots & \\ddots & \\vdots \\\\\n",
    "A_{N1} & A_{N2} & ... & A_{NN}\n",
    "\\end{array}\\right]\n",
    "\\ \\rightarrow \\\n",
    "A_{ij} \\, , \\quad \\text{med } 1 \\le i \\le N \\text{ och } 1 \\le j \\le M\n",
    "$$\n",
    "\n",
    "där $N$ och $M$ är antal element i första och andra dimensionen."
   ]
  },
  {
   "cell_type": "code",
   "execution_count": null,
   "metadata": {
    "slideshow": {
     "slide_type": "fragment"
    }
   },
   "outputs": [],
   "source": [
    "A = rand([3, 4])"
   ]
  },
  {
   "cell_type": "code",
   "execution_count": null,
   "metadata": {
    "slideshow": {
     "slide_type": "fragment"
    }
   },
   "outputs": [],
   "source": [
    "size(A)"
   ]
  },
  {
   "cell_type": "markdown",
   "metadata": {
    "slideshow": {
     "slide_type": "slide"
    }
   },
   "source": [
    "## $N$-dimensionella arrayer \n",
    "\n",
    "För dimensioner högre än två är det svårt att visualisera elementen som i en och två dimensioner.\n",
    "\n",
    "Men index-notationen $A_i$, $A_{ij}$ generaliserar till godtycklig dimension\n",
    "\n",
    "$$\n",
    "a_i \\, , \\text{ en-dimensionell array} \\\\\n",
    "A_{ij} \\, , \\text{ två-dimensionell array} \\\\\n",
    "A_{ijk} \\, , \\text{ tre-dimensionell array} \\\\\n",
    "... \\\\\n",
    "A_{i_1, i_2, ..., i_N} \\, , \\text{ N-dimensionell array} \\\\\n",
    "... \\\\\n",
    "$$"
   ]
  },
  {
   "cell_type": "code",
   "execution_count": null,
   "metadata": {
    "slideshow": {
     "slide_type": "subslide"
    }
   },
   "outputs": [],
   "source": [
    "A = rand([3, 4, 2, 2])"
   ]
  },
  {
   "cell_type": "code",
   "execution_count": null,
   "metadata": {
    "slideshow": {
     "slide_type": "-"
    }
   },
   "outputs": [],
   "source": [
    "size(A)"
   ]
  },
  {
   "cell_type": "markdown",
   "metadata": {
    "slideshow": {
     "slide_type": "slide"
    }
   },
   "source": [
    "## Skapande av arrayer\n",
    "\n",
    "- `zeros([N, M, K, ...])`\n",
    "- `ones`, `rand`"
   ]
  },
  {
   "cell_type": "code",
   "execution_count": null,
   "metadata": {
    "slideshow": {
     "slide_type": "fragment"
    }
   },
   "outputs": [],
   "source": [
    "A = zeros([2, 3])"
   ]
  },
  {
   "cell_type": "code",
   "execution_count": null,
   "metadata": {},
   "outputs": [],
   "source": [
    "B = ones(size(A))"
   ]
  },
  {
   "cell_type": "code",
   "execution_count": null,
   "metadata": {},
   "outputs": [],
   "source": [
    "C = rand([3, 2])"
   ]
  },
  {
   "cell_type": "markdown",
   "metadata": {
    "slideshow": {
     "slide_type": "slide"
    }
   },
   "source": [
    "## Elementåtkomst, indexering\n",
    "\n",
    "Givet en array $A$ kan elementen kommas åt genom att \"indexera\" arrayen `A(i, j)`"
   ]
  },
  {
   "cell_type": "code",
   "execution_count": null,
   "metadata": {
    "slideshow": {
     "slide_type": "fragment"
    }
   },
   "outputs": [],
   "source": [
    "A = rand([3, 2])"
   ]
  },
  {
   "cell_type": "code",
   "execution_count": null,
   "metadata": {},
   "outputs": [],
   "source": [
    "A(3, 2)"
   ]
  },
  {
   "cell_type": "code",
   "execution_count": null,
   "metadata": {},
   "outputs": [],
   "source": [
    "summa = 0;\n",
    "for i = 1:size(A, 1)\n",
    "  for j = 1:size(A, 2)\n",
    "    summa = summa + A(i, j);\n",
    "  end\n",
    "end\n",
    "summa"
   ]
  },
  {
   "cell_type": "markdown",
   "metadata": {
    "slideshow": {
     "slide_type": "slide"
    }
   },
   "source": [
    "## Klippa ut delar av en array\n",
    "\n",
    "Förutom indexering av enskilda element kan end del av en array fås genom \"slice\" notationen `start:end`\n",
    "\n",
    "Ett ensamt kolon `:` tar alla element i den aktuella dimensionen."
   ]
  },
  {
   "cell_type": "code",
   "execution_count": null,
   "metadata": {
    "slideshow": {
     "slide_type": "fragment"
    }
   },
   "outputs": [],
   "source": [
    "A"
   ]
  },
  {
   "cell_type": "code",
   "execution_count": null,
   "metadata": {},
   "outputs": [],
   "source": [
    "A(1, :)"
   ]
  },
  {
   "cell_type": "code",
   "execution_count": null,
   "metadata": {},
   "outputs": [],
   "source": [
    "A(1:2, :)"
   ]
  },
  {
   "cell_type": "markdown",
   "metadata": {
    "slideshow": {
     "slide_type": "slide"
    }
   },
   "source": [
    "## Sammansättning av arrayer\n",
    "\n",
    "- `cat(dim, A, B)`"
   ]
  },
  {
   "cell_type": "code",
   "execution_count": null,
   "metadata": {},
   "outputs": [],
   "source": [
    "A = zeros([3, 1])\n",
    "B = ones([3, 2])\n",
    "\n",
    "C = cat(2, A, B)"
   ]
  },
  {
   "cell_type": "markdown",
   "metadata": {
    "slideshow": {
     "slide_type": "subslide"
    }
   },
   "source": [
    "## Sammansättning av arrayer: 1D och 2D syntax"
   ]
  },
  {
   "cell_type": "code",
   "execution_count": null,
   "metadata": {},
   "outputs": [],
   "source": [
    "A = 1:4\n",
    "B = 9:12\n",
    "\n",
    "C = [A B]\n",
    "D = [A; B]"
   ]
  },
  {
   "cell_type": "markdown",
   "metadata": {
    "slideshow": {
     "slide_type": "slide"
    }
   },
   "source": [
    "## `reshape` och transponering\n",
    "\n",
    "Dimensionerna hos en array kan ändras med `reshape(A, [N, M,..])` så länge antal element inte ändras.\n",
    "\n",
    "För två dimensionella arrayer kan dimensionerna permuteras genom transponerings operatorn `A'`"
   ]
  },
  {
   "cell_type": "code",
   "execution_count": null,
   "metadata": {
    "slideshow": {
     "slide_type": "fragment"
    }
   },
   "outputs": [],
   "source": [
    "A = 1:10\n",
    "A = reshape(A, [2, 5])"
   ]
  },
  {
   "cell_type": "code",
   "execution_count": null,
   "metadata": {},
   "outputs": [],
   "source": [
    "B = 1:5\n",
    "B = B'"
   ]
  },
  {
   "cell_type": "markdown",
   "metadata": {
    "slideshow": {
     "slide_type": "slide"
    }
   },
   "source": [
    "## Elementvisa aritmetiska operationer\n",
    "\n",
    "Matematiska funktioner appliceras elemetvis på arrayer oberoende på dimension"
   ]
  },
  {
   "cell_type": "code",
   "execution_count": null,
   "metadata": {},
   "outputs": [],
   "source": [
    "A = reshape(1:10, [2, 5])\n",
    "cos(A)"
   ]
  },
  {
   "cell_type": "markdown",
   "metadata": {
    "slideshow": {
     "slide_type": "fragment"
    }
   },
   "source": [
    "Undantag är multiplikation `.*`, division `./`, och exponentiering `.^` som kräver en extra punkt för att ge elementvis evaluering"
   ]
  },
  {
   "cell_type": "code",
   "execution_count": null,
   "metadata": {},
   "outputs": [],
   "source": [
    "A.^2"
   ]
  },
  {
   "cell_type": "code",
   "execution_count": null,
   "metadata": {},
   "outputs": [],
   "source": [
    "A.*A"
   ]
  },
  {
   "cell_type": "markdown",
   "metadata": {
    "slideshow": {
     "slide_type": "slide"
    }
   },
   "source": [
    "## Reduktions-operationer\n",
    "\n",
    "Summera element över alla eller längst givna dimensioner\n",
    "- `sum(A)`, `sum(A, dim)`, `sum(A, [1, 2, ..])`\n",
    "\n",
    "Tag produkten, kumulativa summan eller medelvärdet\n",
    "- `prod`, `cumsum`, `mean`, ..."
   ]
  },
  {
   "cell_type": "code",
   "execution_count": null,
   "metadata": {
    "slideshow": {
     "slide_type": "fragment"
    }
   },
   "outputs": [],
   "source": [
    "A = 1:10\n",
    "sum(A)"
   ]
  },
  {
   "cell_type": "code",
   "execution_count": null,
   "metadata": {
    "slideshow": {
     "slide_type": "fragment"
    }
   },
   "outputs": [],
   "source": [
    "A = reshape(A, [2, 5])\n",
    "sum(A, 1)"
   ]
  },
  {
   "cell_type": "code",
   "execution_count": null,
   "metadata": {
    "slideshow": {
     "slide_type": "subslide"
    }
   },
   "outputs": [],
   "source": [
    "prod(A, 'all')"
   ]
  },
  {
   "cell_type": "code",
   "execution_count": null,
   "metadata": {
    "slideshow": {
     "slide_type": "fragment"
    }
   },
   "outputs": [],
   "source": [
    "B = 1:10\n",
    "C = cumsum(B)"
   ]
  },
  {
   "cell_type": "code",
   "execution_count": null,
   "metadata": {
    "slideshow": {
     "slide_type": "subslide"
    }
   },
   "outputs": [],
   "source": [
    "D = 1:9\n",
    "mean(D)"
   ]
  },
  {
   "cell_type": "markdown",
   "metadata": {
    "slideshow": {
     "slide_type": "slide"
    }
   },
   "source": [
    "## Broadcasting\n",
    "\n",
    "Om ett aritmetisk uttryck med arrayer matchar i dimensionerna förutom ett antal dimensioner som har längend 1 så distribueras resultate över dessa dimensioner"
   ]
  },
  {
   "cell_type": "code",
   "execution_count": null,
   "metadata": {},
   "outputs": [],
   "source": [
    "A = 1:3\n",
    "B = zeros([4, 3])"
   ]
  },
  {
   "cell_type": "code",
   "execution_count": null,
   "metadata": {},
   "outputs": [],
   "source": [
    "C = A + B"
   ]
  },
  {
   "cell_type": "markdown",
   "metadata": {
    "slideshow": {
     "slide_type": "fragment"
    }
   },
   "source": [
    "Matematiskt kan detta exempel uttryckas som\n",
    "\n",
    "$$\n",
    "C_{ij} = A_j + B_{ij}\n",
    "$$"
   ]
  },
  {
   "cell_type": "markdown",
   "metadata": {
    "slideshow": {
     "slide_type": "subslide"
    }
   },
   "source": [
    "Broadcasting konceptet är mycket kraftfullt och kan användas för att implementera komplicerade matematiska uttryck som uppstår inom numerisk matematik.\n",
    "\n"
   ]
  },
  {
   "cell_type": "markdown",
   "metadata": {
    "slideshow": {
     "slide_type": "fragment"
    }
   },
   "source": [
    "### Exempel\n",
    "\n",
    "Beräkna\n",
    "\n",
    "$$\n",
    "f(x, y) = x \\cos x + x \\sin y\n",
    "$$\n",
    "\n",
    "för $x \\in [-3, 3]$ och $y \\in [0, 4]$."
   ]
  },
  {
   "cell_type": "code",
   "execution_count": null,
   "metadata": {
    "slideshow": {
     "slide_type": "subslide"
    }
   },
   "outputs": [],
   "source": [
    "x = linspace(-3, 3, 32)'; % Transponera x-vektorn\n",
    "y = linspace(0, 4, 32);\n",
    "size(x)\n",
    "size(y)"
   ]
  },
  {
   "cell_type": "code",
   "execution_count": null,
   "metadata": {
    "slideshow": {
     "slide_type": "fragment"
    }
   },
   "outputs": [],
   "source": [
    "f_xy = x .* cos(y) + y .* sin(x);\n",
    "size(f_xy)\n",
    "\n",
    "mesh(x, y, f_xy)\n",
    "xlabel('x'); ylabel('y'); zlabel('f(x,y)')"
   ]
  },
  {
   "cell_type": "markdown",
   "metadata": {
    "slideshow": {
     "slide_type": "slide"
    }
   },
   "source": [
    "## Slut på Föreläsning 4"
   ]
  },
  {
   "cell_type": "markdown",
   "metadata": {
    "slideshow": {
     "slide_type": "fragment"
    }
   },
   "source": [
    "### Övning 4 - Fraktaler\n",
    "- Koch-kurvan\n",
    "\n",
    "Extra\n",
    "- Julia-fraktalen\n",
    "- Fern-fraktalen\n",
    "- 3D exempel"
   ]
  }
 ],
 "metadata": {
  "celltoolbar": "Slideshow",
  "kernelspec": {
   "display_name": "Matlab",
   "language": "matlab",
   "name": "matlab"
  },
  "language_info": {
   "codemirror_mode": "octave",
   "file_extension": ".m",
   "help_links": [
    {
     "text": "MetaKernel Magics",
     "url": "https://metakernel.readthedocs.io/en/latest/source/README.html"
    }
   ],
   "mimetype": "text/x-octave",
   "name": "matlab",
   "version": "0.17.1"
  }
 },
 "nbformat": 4,
 "nbformat_minor": 4
}
