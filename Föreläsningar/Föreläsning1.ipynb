{
 "cells": [
  {
   "cell_type": "code",
   "execution_count": 1,
   "id": "e8cc3010",
   "metadata": {
    "slideshow": {
     "slide_type": "skip"
    }
   },
   "outputs": [],
   "source": [
    "format compact"
   ]
  },
  {
   "cell_type": "markdown",
   "id": "12c7d2ce",
   "metadata": {
    "slideshow": {
     "slide_type": "slide"
    }
   },
   "source": [
    "# Programmeringsintroduktion\n",
    "\n",
    "### i MATLAB\n",
    "\n",
    "Matematikerprogrammet, Örebro Universitet\n",
    "\n",
    "Hugo U.R. Strand\n",
    "\n",
    "Kurshemsida: https://git.oru.se/hosd/matlab-intro/"
   ]
  },
  {
   "cell_type": "markdown",
   "id": "d6a18d27",
   "metadata": {
    "slideshow": {
     "slide_type": "subslide"
    }
   },
   "source": [
    "# Föreläsningar\n",
    "\n",
    "- F1 Programmeringskoncept\n",
    "  - variabler, operatorer, och flödeskontroll\n",
    "- F2 Procedurell programmering\n",
    "  - funktioner, rekursion, och algoritmer\n",
    "- F3 Visualisering\n",
    "- F4 Multi-dimensionella arrayer"
   ]
  },
  {
   "cell_type": "markdown",
   "id": "e6fd18fb",
   "metadata": {
    "slideshow": {
     "slide_type": "subslide"
    }
   },
   "source": [
    "# Datorövningar\n",
    "\n",
    "- Ö1 Matlab On Ramp\n",
    "- Ö2 Sorteringsalgoritmer\n",
    "- Ö3 Rot-lösar-algoritmer\n",
    "- Ö4 Fraktaler"
   ]
  },
  {
   "cell_type": "markdown",
   "id": "23458988",
   "metadata": {
    "slideshow": {
     "slide_type": "subslide"
    }
   },
   "source": [
    "# Ett första exempel\n",
    "\n",
    "Vi kommer att köra Matlab interaktivt på föreläsningarna"
   ]
  },
  {
   "cell_type": "code",
   "execution_count": 2,
   "id": "72e3e374",
   "metadata": {},
   "outputs": [
    {
     "name": "stdout",
     "output_type": "stream",
     "text": [
      "Hello Matlab World!\n"
     ]
    }
   ],
   "source": [
    "% Detta är en kod-kommentar i Matlab\n",
    "\n",
    "% anropa Matlab funktionen \"disp\"\n",
    "\n",
    "disp('Hello Matlab World!') "
   ]
  },
  {
   "cell_type": "markdown",
   "id": "720c10f3",
   "metadata": {
    "slideshow": {
     "slide_type": "subslide"
    }
   },
   "source": [
    "# Tillgång till MATLAB\n",
    "\n",
    "- Datorsalarna\n",
    "- På webben (registrera på MathWorks hemsida)\n",
    "- Ladda hem genom universitetet\n",
    "\n",
    "[MATLAB för studenter vid ORU](https://www.oru.se/english/study/student-services/it-and-printing/it/software/matlab/)\n"
   ]
  },
  {
   "cell_type": "markdown",
   "id": "4b6b6e97",
   "metadata": {
    "slideshow": {
     "slide_type": "slide"
    }
   },
   "source": [
    "# Föreläsning 1\n",
    "\n",
    "- Variabler och tilldelning\n",
    "- Aritmetiska operationer\n",
    "- Flödeskontroll\n",
    "- Arrayer"
   ]
  },
  {
   "cell_type": "markdown",
   "id": "5f4cb83e",
   "metadata": {
    "slideshow": {
     "slide_type": "slide"
    }
   },
   "source": [
    "# Variabler och tilldelning\n",
    "\n",
    "- Heltal, flyttal, boolska variabler\n",
    "- Text-strängar"
   ]
  },
  {
   "cell_type": "code",
   "execution_count": 3,
   "id": "6994f9ae",
   "metadata": {
    "slideshow": {
     "slide_type": "fragment"
    }
   },
   "outputs": [
    {
     "name": "stdout",
     "output_type": "stream",
     "text": [
      "a =\n",
      "    10\n"
     ]
    }
   ],
   "source": [
    "% Tilldela variabeln \"a\", heltalsvärdet 10\n",
    "\n",
    "a = 10"
   ]
  },
  {
   "cell_type": "code",
   "execution_count": 4,
   "id": "2b034f22",
   "metadata": {},
   "outputs": [
    {
     "name": "stdout",
     "output_type": "stream",
     "text": [
      "b =\n",
      "    3.1415\n"
     ]
    }
   ],
   "source": [
    "% Tilldela varaiabeln \"b\", flyttalsvärdet 3.1415\n",
    "\n",
    "b = 3.1415"
   ]
  },
  {
   "cell_type": "code",
   "execution_count": 5,
   "id": "c54ab5a5",
   "metadata": {
    "slideshow": {
     "slide_type": "subslide"
    }
   },
   "outputs": [
    {
     "name": "stdout",
     "output_type": "stream",
     "text": [
      "c =\n",
      "    3.1832\n",
      "d =\n",
      "    1.5417\n",
      "e =\n",
      "   100\n"
     ]
    }
   ],
   "source": [
    "% Aritmetiska operationer\n",
    "\n",
    "c = a / b\n",
    "\n",
    "d = c + 1.5 - b\n",
    "\n",
    "e = a^2"
   ]
  },
  {
   "cell_type": "code",
   "execution_count": 6,
   "id": "f8dcc56a",
   "metadata": {},
   "outputs": [
    {
     "name": "stdout",
     "output_type": "stream",
     "text": [
      "f =\n",
      "  logical\n",
      "   1\n",
      "h =\n",
      "  logical\n",
      "   0\n"
     ]
    }
   ],
   "source": [
    "% Logiska uttryck / tester\n",
    "\n",
    "f = a > 1\n",
    "h = a == b"
   ]
  },
  {
   "cell_type": "code",
   "execution_count": 7,
   "id": "3d5c19c8",
   "metadata": {
    "slideshow": {
     "slide_type": "subslide"
    }
   },
   "outputs": [
    {
     "name": "stdout",
     "output_type": "stream",
     "text": [
      "num =\n",
      "     1\n",
      "num =\n",
      "     2\n",
      "num =\n",
      "     3\n"
     ]
    }
   ],
   "source": [
    "% Variabel på båda sidorna likhetstecknet i en tilldelning\n",
    "\n",
    "num = 1\n",
    "num = num + 1\n",
    "num = num + 1"
   ]
  },
  {
   "cell_type": "code",
   "execution_count": 8,
   "id": "ec237f47",
   "metadata": {
    "slideshow": {
     "slide_type": "subslide"
    }
   },
   "outputs": [
    {
     "name": "stdout",
     "output_type": "stream",
     "text": [
      "t = \n",
      "    \"Hello Matlab!\"\n",
      "msg = \n",
      "    \"The value of a is 10.\"\n"
     ]
    }
   ],
   "source": [
    "% Text, \"strängar\" av bokstäver\n",
    "\n",
    "t = \"Hello Matlab!\"\n",
    "\n",
    "msg = \"The value of a is \" + num2str(a) + \".\""
   ]
  },
  {
   "cell_type": "markdown",
   "id": "03b87abc",
   "metadata": {
    "slideshow": {
     "slide_type": "slide"
    }
   },
   "source": [
    "# Arrayer\n",
    "\n",
    "Syntax: `x = [a, b, c, ...]`\n",
    "\n",
    "Indexering: `x(i)`\n",
    "\n",
    "`end` är sista elementet & `x(end+1) = a` lägger till `a` sist i listan"
   ]
  },
  {
   "cell_type": "code",
   "execution_count": 9,
   "id": "05cc3611",
   "metadata": {
    "slideshow": {
     "slide_type": "fragment"
    }
   },
   "outputs": [
    {
     "name": "stdout",
     "output_type": "stream",
     "text": [
      "x =\n",
      "     2     4     8    16\n"
     ]
    }
   ],
   "source": [
    "x = [2, 4, 8, 16]"
   ]
  },
  {
   "cell_type": "code",
   "execution_count": 10,
   "id": "435159e9",
   "metadata": {},
   "outputs": [
    {
     "name": "stdout",
     "output_type": "stream",
     "text": [
      "a =\n",
      "     4\n",
      "b =\n",
      "    16\n"
     ]
    }
   ],
   "source": [
    "a = x(2)\n",
    "b = x(end)"
   ]
  },
  {
   "cell_type": "code",
   "execution_count": 11,
   "id": "8b3d943a",
   "metadata": {},
   "outputs": [
    {
     "name": "stdout",
     "output_type": "stream",
     "text": [
      "x =\n",
      "           2           4           8          16        1337\n"
     ]
    }
   ],
   "source": [
    "x(end+1) = 1337"
   ]
  },
  {
   "cell_type": "markdown",
   "id": "7fbd1f9c",
   "metadata": {
    "slideshow": {
     "slide_type": "subslide"
    }
   },
   "source": [
    "# \"Range\": serier av tal\n",
    "\n",
    "Syntax: \n",
    "```\n",
    "x = start:end\n",
    "x = start:step:end\n",
    "```"
   ]
  },
  {
   "cell_type": "code",
   "execution_count": 12,
   "id": "322e3f98",
   "metadata": {
    "slideshow": {
     "slide_type": "-"
    }
   },
   "outputs": [
    {
     "name": "stdout",
     "output_type": "stream",
     "text": [
      "y =\n",
      "     1     2     3     4     5     6     7     8     9    10\n",
      "z =\n",
      "     1     3     5     7     9    11\n",
      "q =\n",
      "         0    0.2000    0.4000    0.6000    0.8000    1.0000\n"
     ]
    }
   ],
   "source": [
    "y = 1:10\n",
    "z = 1:2:11\n",
    "q = 0:0.2:1"
   ]
  },
  {
   "cell_type": "markdown",
   "id": "e1bf8c09",
   "metadata": {
    "slideshow": {
     "slide_type": "slide"
    }
   },
   "source": [
    "# Multi-dimensionella arrayer\n"
   ]
  },
  {
   "cell_type": "code",
   "execution_count": 13,
   "id": "64515799",
   "metadata": {},
   "outputs": [
    {
     "name": "stdout",
     "output_type": "stream",
     "text": [
      "x =\n",
      "     1     8     4\n",
      "ans =\n",
      "     1     3\n"
     ]
    }
   ],
   "source": [
    "% En-dimensionell array\n",
    "\n",
    "x = [1, 8, 4]\n",
    "\n",
    "size(x)"
   ]
  },
  {
   "cell_type": "code",
   "execution_count": 14,
   "id": "09cd6296",
   "metadata": {},
   "outputs": [
    {
     "name": "stdout",
     "output_type": "stream",
     "text": [
      "y =\n",
      "    10     3\n",
      "     4     9\n",
      "ans =\n",
      "     2     2\n"
     ]
    }
   ],
   "source": [
    "% Två-dimensionell array (matris)\n",
    "\n",
    "y = [10, 3; 4, 9]\n",
    "\n",
    "size(y)"
   ]
  },
  {
   "cell_type": "code",
   "execution_count": 15,
   "id": "5fd2b346",
   "metadata": {
    "slideshow": {
     "slide_type": "subslide"
    }
   },
   "outputs": [
    {
     "name": "stdout",
     "output_type": "stream",
     "text": [
      "x =\n",
      "     1     1     1     1     1     1\n",
      "     1     1     1     1     1     1\n",
      "     1     1     1     1     1     1\n",
      "y =\n",
      "     0     0     0     0\n",
      "     0     0     0     0\n",
      "     0     0     0     0\n",
      "z =\n",
      "    0.8147    0.9134\n",
      "    0.9058    0.6324\n",
      "    0.1270    0.0975\n"
     ]
    }
   ],
   "source": [
    "% Array-skapande: ones, zeros, rand\n",
    "\n",
    "x = ones([3, 6])\n",
    "y = zeros([3, 4])\n",
    "z = rand([3, 2])"
   ]
  },
  {
   "cell_type": "code",
   "execution_count": 16,
   "id": "2d07c22d",
   "metadata": {
    "scrolled": false
   },
   "outputs": [
    {
     "name": "stdout",
     "output_type": "stream",
     "text": [
      "h =\n",
      "     1     1     1     1     1     1     0     0     0     0\n",
      "     1     1     1     1     1     1     0     0     0     0\n",
      "     1     1     1     1     1     1     0     0     0     0\n"
     ]
    }
   ],
   "source": [
    "% Sammansättning: cat\n",
    "\n",
    "h = cat(2, x, y)"
   ]
  },
  {
   "cell_type": "markdown",
   "id": "525fa589",
   "metadata": {
    "slideshow": {
     "slide_type": "slide"
    }
   },
   "source": [
    "# Flödeskontroll\n",
    "\n",
    "Reserverade nyckelord (i Matlab:s programmeringsspråk)\n",
    "\n",
    "- `for`, `end`\n",
    "- `if`, `elseif`, `else`, `end`\n",
    "- `break`, `continue`\n",
    "\n",
    "- `while`, `end`\n",
    "- `switch`, `case`, `otherwise`, `end`"
   ]
  },
  {
   "cell_type": "markdown",
   "id": "e5bef601",
   "metadata": {
    "slideshow": {
     "slide_type": "subslide"
    }
   },
   "source": [
    "# Repetition med `for`-loop\n",
    "\n",
    "Exekvera samma kod upprepade gånger"
   ]
  },
  {
   "cell_type": "code",
   "execution_count": 17,
   "id": "a92bab4d",
   "metadata": {},
   "outputs": [
    {
     "name": "stdout",
     "output_type": "stream",
     "text": [
      "     1\n",
      "     2\n",
      "     3\n",
      "     4\n",
      "     5\n",
      "     6\n",
      "     7\n",
      "     8\n",
      "     9\n",
      "    10\n"
     ]
    }
   ],
   "source": [
    "for x = 1:10\n",
    "    disp(x)\n",
    "end"
   ]
  },
  {
   "cell_type": "code",
   "execution_count": 18,
   "id": "192dfce7",
   "metadata": {
    "slideshow": {
     "slide_type": "subslide"
    }
   },
   "outputs": [
    {
     "name": "stdout",
     "output_type": "stream",
     "text": [
      "n = 55\n"
     ]
    }
   ],
   "source": [
    "% Ex: Summera alla tal från 1 till och med 10\n",
    "\n",
    "n = 0;\n",
    "for x = 1:10\n",
    "    n = n + x;\n",
    "end\n",
    "disp(\"n = \" + num2str(n))"
   ]
  },
  {
   "cell_type": "code",
   "execution_count": 19,
   "id": "a0ed95d3",
   "metadata": {
    "slideshow": {
     "slide_type": "skip"
    }
   },
   "outputs": [
    {
     "name": "stdout",
     "output_type": "stream",
     "text": [
      "n =\n",
      "    55\n"
     ]
    }
   ],
   "source": [
    "% Snabb version mha funktionen \"sum\"\n",
    "\n",
    "n = sum(1:10)"
   ]
  },
  {
   "cell_type": "markdown",
   "id": "4619a369",
   "metadata": {
    "slideshow": {
     "slide_type": "subslide"
    }
   },
   "source": [
    "# Flödeskontroll med `if`-`elseif`-`else`\n",
    "\n",
    "Kontrollera vilken kod som exekveras baserat på logiska uttryck"
   ]
  },
  {
   "cell_type": "code",
   "execution_count": 20,
   "id": "938f2f33",
   "metadata": {
    "slideshow": {
     "slide_type": "fragment"
    }
   },
   "outputs": [
    {
     "name": "stdout",
     "output_type": "stream",
     "text": [
      "0 is special\n",
      "1 is odd\n",
      "2 is even\n",
      "3 is odd\n",
      "4 is even\n",
      "5 is odd\n",
      "6 is even\n",
      "7 is odd\n",
      "8 is even\n",
      "9 is odd\n"
     ]
    }
   ],
   "source": [
    "for x = 0:9\n",
    "    if x == 0\n",
    "        disp(num2str(x) + \" is special\")\n",
    "    elseif rem(x, 2) == 0\n",
    "        disp(num2str(x) + \" is even\")\n",
    "    else\n",
    "        disp(num2str(x) + \" is odd\")\n",
    "    end\n",
    "end"
   ]
  },
  {
   "cell_type": "markdown",
   "id": "1f419900",
   "metadata": {
    "slideshow": {
     "slide_type": "subslide"
    }
   },
   "source": [
    "# Flödeskontroll med `break`-`continue`\n",
    "\n",
    "- `break` : avbryter en `for` eller `while` loop\n",
    "- `continue` : hoppa direkt till nästa steg i en `for`/`while` loop"
   ]
  },
  {
   "cell_type": "code",
   "execution_count": 21,
   "id": "6761121b",
   "metadata": {
    "slideshow": {
     "slide_type": "fragment"
    }
   },
   "outputs": [
    {
     "name": "stdout",
     "output_type": "stream",
     "text": [
      "     5\n",
      "     6\n",
      "     7\n"
     ]
    }
   ],
   "source": [
    "for x = 1:10\n",
    "    if x < 5\n",
    "        continue\n",
    "    end\n",
    "    if x == 8\n",
    "        break\n",
    "    end\n",
    "    disp(x)\n",
    "end"
   ]
  },
  {
   "cell_type": "markdown",
   "id": "5ed54e0e",
   "metadata": {
    "slideshow": {
     "slide_type": "subslide"
    }
   },
   "source": [
    "# Repetition med `while`-loop\n",
    "\n",
    "Loop konstruktion med logist test för att fortsätta loopandet."
   ]
  },
  {
   "cell_type": "code",
   "execution_count": 22,
   "id": "532b4f86",
   "metadata": {},
   "outputs": [
    {
     "name": "stdout",
     "output_type": "stream",
     "text": [
      "x =\n",
      "   100\n"
     ]
    }
   ],
   "source": [
    "x = 1;\n",
    "while x < 100\n",
    "    x = x + 1;\n",
    "end\n",
    "x"
   ]
  },
  {
   "cell_type": "code",
   "execution_count": 23,
   "id": "f0980244",
   "metadata": {
    "slideshow": {
     "slide_type": "subslide"
    }
   },
   "outputs": [
    {
     "name": "stdout",
     "output_type": "stream",
     "text": [
      "y =\n",
      "     1048576\n"
     ]
    }
   ],
   "source": [
    "% Evighets \"while\"-loop med \"break\" avslut\n",
    "\n",
    "y = 1;\n",
    "while true\n",
    "    y = y * 2;\n",
    "    if y > 10e5\n",
    "        break\n",
    "    end\n",
    "end\n",
    "y"
   ]
  },
  {
   "cell_type": "markdown",
   "id": "9f7d38fe",
   "metadata": {
    "slideshow": {
     "slide_type": "slide"
    }
   },
   "source": [
    "# Övningsexempel"
   ]
  },
  {
   "cell_type": "markdown",
   "id": "87f21f4d",
   "metadata": {
    "slideshow": {
     "slide_type": "subslide"
    }
   },
   "source": [
    "## Övning 1\n",
    "\n",
    "- Summera alla tal från 1 till 10000 och skriv ut resultatet\n",
    "  - använd en `for` loop\n",
    "  - Svar: 50005000"
   ]
  },
  {
   "cell_type": "code",
   "execution_count": null,
   "id": "1c41a2b4",
   "metadata": {},
   "outputs": [],
   "source": []
  },
  {
   "cell_type": "code",
   "execution_count": 24,
   "id": "5649b470",
   "metadata": {
    "slideshow": {
     "slide_type": "skip"
    }
   },
   "outputs": [
    {
     "name": "stdout",
     "output_type": "stream",
     "text": [
      "n =\n",
      "    50005000\n"
     ]
    }
   ],
   "source": [
    "n = 0;\n",
    "for x = 1:10000\n",
    "    n = n + x;\n",
    "end\n",
    "n"
   ]
  },
  {
   "cell_type": "markdown",
   "id": "05f1252e",
   "metadata": {
    "slideshow": {
     "slide_type": "subslide"
    }
   },
   "source": [
    "## Övning 2\n",
    "\n",
    "- Summera alla udda tal från 1 till 10000 och skriv ut resultatet\n",
    "  - använd en `while` loop\n",
    "  - Svar: 25000000"
   ]
  },
  {
   "cell_type": "code",
   "execution_count": null,
   "id": "4aaa6bab",
   "metadata": {},
   "outputs": [],
   "source": []
  },
  {
   "cell_type": "code",
   "execution_count": 25,
   "id": "6486e29a",
   "metadata": {
    "slideshow": {
     "slide_type": "skip"
    }
   },
   "outputs": [
    {
     "name": "stdout",
     "output_type": "stream",
     "text": [
      "n =\n",
      "    25000000\n"
     ]
    }
   ],
   "source": [
    "n = 0;\n",
    "x = 1;\n",
    "while x <= 10000\n",
    "    n = n + x;\n",
    "    x = x + 2;\n",
    "end\n",
    "n"
   ]
  },
  {
   "cell_type": "markdown",
   "id": "48b2a68b",
   "metadata": {
    "slideshow": {
     "slide_type": "subslide"
    }
   },
   "source": [
    "## Övning 3\n",
    "\n",
    "- Summera alla tal som är jämnt delbara med 3 mellan 1 och 10000 och skriv ut resultatet\n",
    "  - Funktionen `rem(a,b)` ger resten vid heltalsdivision `a/b`\n",
    "  - Svar: 16668333"
   ]
  },
  {
   "cell_type": "code",
   "execution_count": null,
   "id": "c8dcfb2d",
   "metadata": {},
   "outputs": [],
   "source": []
  },
  {
   "cell_type": "code",
   "execution_count": 26,
   "id": "96144cee",
   "metadata": {
    "slideshow": {
     "slide_type": "skip"
    }
   },
   "outputs": [
    {
     "name": "stdout",
     "output_type": "stream",
     "text": [
      "n =\n",
      "    16668333\n"
     ]
    }
   ],
   "source": [
    "n = 0;\n",
    "for x = 1:10000\n",
    "    if rem(x, 3) == 0\n",
    "        n = n + x;\n",
    "    end\n",
    "end\n",
    "n"
   ]
  },
  {
   "cell_type": "markdown",
   "id": "3b29ba24",
   "metadata": {
    "slideshow": {
     "slide_type": "slide"
    }
   },
   "source": [
    "# Slut på Föreläsning 1"
   ]
  },
  {
   "cell_type": "markdown",
   "id": "e659d1b3",
   "metadata": {
    "slideshow": {
     "slide_type": "fragment"
    }
   },
   "source": [
    "## Övning 1 - Matlab On Ramp\n",
    "\n",
    "<https://git.oru.se/hosd/matlab-intro/>"
   ]
  }
 ],
 "metadata": {
  "celltoolbar": "Slideshow",
  "kernelspec": {
   "display_name": "Matlab",
   "language": "matlab",
   "name": "matlab"
  },
  "language_info": {
   "codemirror_mode": "octave",
   "file_extension": ".m",
   "help_links": [
    {
     "text": "MetaKernel Magics",
     "url": "https://metakernel.readthedocs.io/en/latest/source/README.html"
    }
   ],
   "mimetype": "text/x-octave",
   "name": "matlab",
   "version": "0.17.1"
  }
 },
 "nbformat": 4,
 "nbformat_minor": 5
}
