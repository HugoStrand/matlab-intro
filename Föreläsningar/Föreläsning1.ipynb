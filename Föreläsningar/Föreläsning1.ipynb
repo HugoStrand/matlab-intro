{
 "cells": [
  {
   "cell_type": "markdown",
   "metadata": {
    "slideshow": {
     "slide_type": "slide"
    }
   },
   "source": [
    "# Programmeringsintroduktion\n",
    "\n",
    "### i MATLAB\n",
    "\n",
    "</br>\n",
    "</br>\n",
    "</br>\n",
    "\n",
    "Matematikprogrammet, Örebro Universitet (2021)\n",
    "\n",
    "Hugo U.R. Strand"
   ]
  },
  {
   "cell_type": "markdown",
   "metadata": {
    "slideshow": {
     "slide_type": "subslide"
    }
   },
   "source": [
    "# Föreläsningar\n",
    "\n",
    "- F1 Programmeringskoncept: variabler, operatorer, och flödeskontroll\n",
    "- F2 Procedurell programmering: funktioner, rekursion, och algoritmer\n",
    "- F3 Data strukturer: vektorer, matriser, arrayer, maps, structs\n",
    "- F4 Programmerings-vett-och-etikett: testning, dokumentation, versionshantering"
   ]
  },
  {
   "cell_type": "markdown",
   "metadata": {
    "slideshow": {
     "slide_type": "subslide"
    }
   },
   "source": [
    "# Datorövningar\n",
    "\n",
    "- Ö1 Matlab On Ramp\n",
    "- Ö2 Fibonacci, Bisection, Fraktaler\n",
    "- Ö3 Data-analys och visulaisering\n",
    "- Ö4 Programmerings-projekt i grupp"
   ]
  },
  {
   "cell_type": "markdown",
   "metadata": {
    "slideshow": {
     "slide_type": "subslide"
    }
   },
   "source": [
    "# Föreläsningar i Jupyter\n",
    "\n",
    "För att interaktivt köra Matlab"
   ]
  },
  {
   "cell_type": "code",
   "execution_count": null,
   "metadata": {},
   "outputs": [],
   "source": [
    "% Detta är en kod-kommentar i Matlab\n",
    "\n",
    "% anropa Matlab funktionen \"disp\"\n",
    "\n",
    "disp('Hello Matlab World!') "
   ]
  },
  {
   "cell_type": "markdown",
   "metadata": {
    "slideshow": {
     "slide_type": "subslide"
    }
   },
   "source": [
    "# Tillgång till MATLAB\n",
    "\n",
    "- Datorsalarna\n",
    "- På webben (registrera på MathWorks hemsida med @oru.se email-adress)\n",
    "- Ladda hem genom universitetet"
   ]
  },
  {
   "cell_type": "markdown",
   "metadata": {
    "slideshow": {
     "slide_type": "slide"
    }
   },
   "source": [
    "# Föreläsning 1\n",
    "\n",
    "- Variabler och tilldelning\n",
    "- Aritmetiska operationer\n",
    "- Flödeskontroll\n",
    "- Container-datatyper "
   ]
  },
  {
   "cell_type": "markdown",
   "metadata": {
    "slideshow": {
     "slide_type": "slide"
    }
   },
   "source": [
    "# Variabler och tilldelning\n",
    "\n",
    "- Heltal, flyttal, boolska variabler\n",
    "- Text strängar"
   ]
  },
  {
   "cell_type": "code",
   "execution_count": null,
   "metadata": {
    "slideshow": {
     "slide_type": "fragment"
    }
   },
   "outputs": [],
   "source": [
    "% Tilldela variabeln \"a\", heltalsvärdet 10\n",
    "\n",
    "a = 10"
   ]
  },
  {
   "cell_type": "code",
   "execution_count": null,
   "metadata": {},
   "outputs": [],
   "source": [
    "% Tilldela varaiabeln \"b\", flyttalsvärdet 3.1415\n",
    "\n",
    "b = 3.1415"
   ]
  },
  {
   "cell_type": "code",
   "execution_count": null,
   "metadata": {
    "slideshow": {
     "slide_type": "subslide"
    }
   },
   "outputs": [],
   "source": [
    "% Aritmetiska operationer\n",
    "\n",
    "c = a / b\n",
    "\n",
    "d = c + 1.5 - b\n",
    "\n",
    "e = a^2"
   ]
  },
  {
   "cell_type": "code",
   "execution_count": null,
   "metadata": {},
   "outputs": [],
   "source": [
    "% Logiska uttryck / tester\n",
    "\n",
    "f = a > 1\n",
    "h = a == b"
   ]
  },
  {
   "cell_type": "code",
   "execution_count": null,
   "metadata": {
    "slideshow": {
     "slide_type": "subslide"
    }
   },
   "outputs": [],
   "source": [
    "% Variabel på båda sidorna likhetstecknet i en tilldelning\n",
    "\n",
    "num = 1\n",
    "num = num + 1\n",
    "num = num + 1"
   ]
  },
  {
   "cell_type": "code",
   "execution_count": null,
   "metadata": {
    "slideshow": {
     "slide_type": "subslide"
    }
   },
   "outputs": [],
   "source": [
    "% Text, \"strängar\" av bokstäver\n",
    "\n",
    "t = \"Hej Matlab!\"\n",
    "\n",
    "msg = \"Värdet på a är \" + num2str(a) + \".\""
   ]
  },
  {
   "cell_type": "markdown",
   "metadata": {
    "slideshow": {
     "slide_type": "slide"
    }
   },
   "source": [
    "# Vektorer och \"range\"\n",
    "\n",
    "Syntax: \n",
    "```\n",
    "x = [a, b, c, ...]\n",
    "x = start:end\n",
    "x = start:step:end\n",
    "```"
   ]
  },
  {
   "cell_type": "code",
   "execution_count": null,
   "metadata": {
    "slideshow": {
     "slide_type": "fragment"
    }
   },
   "outputs": [],
   "source": [
    "x = [2, 4, 8, 16]"
   ]
  },
  {
   "cell_type": "code",
   "execution_count": null,
   "metadata": {
    "slideshow": {
     "slide_type": "-"
    }
   },
   "outputs": [],
   "source": [
    "y = 1:10"
   ]
  },
  {
   "cell_type": "code",
   "execution_count": null,
   "metadata": {},
   "outputs": [],
   "source": [
    "z = 1:2:11"
   ]
  },
  {
   "cell_type": "markdown",
   "metadata": {
    "slideshow": {
     "slide_type": "slide"
    }
   },
   "source": [
    "# Flödeskontroll\n",
    "\n",
    "Reserverade nyckelord (i Matlab:s programmeringsspråk)\n",
    "\n",
    "- `for`, `end`\n",
    "- `if`, `elseif`, `else`, `end`\n",
    "- `break`, `continue`\n",
    "\n",
    "- `while`, `end`\n",
    "- `switch`, `case`, `otherwise`, `end`"
   ]
  },
  {
   "cell_type": "markdown",
   "metadata": {
    "slideshow": {
     "slide_type": "subslide"
    }
   },
   "source": [
    "# Repetition med `for`-loop\n",
    "\n",
    "Exekvera samma kod upprepade gånger"
   ]
  },
  {
   "cell_type": "code",
   "execution_count": null,
   "metadata": {},
   "outputs": [],
   "source": [
    "for x = 1:10\n",
    "    disp(x)\n",
    "end"
   ]
  },
  {
   "cell_type": "code",
   "execution_count": null,
   "metadata": {
    "slideshow": {
     "slide_type": "subslide"
    }
   },
   "outputs": [],
   "source": [
    "% Ex: Summera alla tal från 1 till och med 10\n",
    "\n",
    "n = 0;\n",
    "for x = 1:10\n",
    "    n = n + x;\n",
    "end\n",
    "disp(\"n = \" + num2str(n))"
   ]
  },
  {
   "cell_type": "code",
   "execution_count": null,
   "metadata": {},
   "outputs": [],
   "source": [
    "% Snabb version mha funktionen \"sum\"\n",
    "\n",
    "n = sum(1:10)"
   ]
  },
  {
   "cell_type": "markdown",
   "metadata": {
    "slideshow": {
     "slide_type": "subslide"
    }
   },
   "source": [
    "# Flödeskontroll med `if`-`elseif`-`else`\n",
    "\n",
    "Kontrollera vilken kod som exekveras baserat på logiska uttryck"
   ]
  },
  {
   "cell_type": "code",
   "execution_count": null,
   "metadata": {
    "slideshow": {
     "slide_type": "fragment"
    }
   },
   "outputs": [],
   "source": [
    "for x = 0:10\n",
    "    if x == 0\n",
    "        disp(num2str(x) + \" is special\")\n",
    "    elseif rem(x, 2) == 0\n",
    "        disp(num2str(x) + \" is even\")\n",
    "    else\n",
    "        disp(num2str(x) + \" is odd\")\n",
    "    end\n",
    "end"
   ]
  },
  {
   "cell_type": "markdown",
   "metadata": {
    "slideshow": {
     "slide_type": "subslide"
    }
   },
   "source": [
    "# Flödeskontroll med `break`-`continue`\n",
    "\n",
    "- `break` : avbryter en `for` eller `while` loop\n",
    "- `continue` : hoppa direkt till nästa steg i en `for`/`while` loop"
   ]
  },
  {
   "cell_type": "code",
   "execution_count": null,
   "metadata": {
    "slideshow": {
     "slide_type": "fragment"
    }
   },
   "outputs": [],
   "source": [
    "for x = 1:10\n",
    "    if x < 5\n",
    "        continue\n",
    "    end\n",
    "    if x == 8\n",
    "        break\n",
    "    end\n",
    "    disp(x)\n",
    "end"
   ]
  },
  {
   "cell_type": "markdown",
   "metadata": {
    "slideshow": {
     "slide_type": "subslide"
    }
   },
   "source": [
    "# Repetition med `while`-loop\n",
    "\n",
    "Loop konstruktion med logist test för att fortsätta loopandet."
   ]
  },
  {
   "cell_type": "code",
   "execution_count": null,
   "metadata": {},
   "outputs": [],
   "source": [
    "x = 1;\n",
    "while x < 100\n",
    "    x = x + 1;\n",
    "end\n",
    "x"
   ]
  },
  {
   "cell_type": "code",
   "execution_count": null,
   "metadata": {
    "slideshow": {
     "slide_type": "fragment"
    }
   },
   "outputs": [],
   "source": [
    "% Evighets \"while\"-loop med \"break\" avslut\n",
    "\n",
    "y = 1;\n",
    "while true\n",
    "    y = y * 2;\n",
    "    if y > 10e5\n",
    "        break\n",
    "    end\n",
    "end\n",
    "y"
   ]
  },
  {
   "cell_type": "markdown",
   "metadata": {
    "slideshow": {
     "slide_type": "subslide"
    }
   },
   "source": [
    "# Flödeskontroll med  `switch`-`case`-`otherwise`\n",
    "\n",
    "- Liknande funktionalitet som `if`-`elseif` satser\n",
    "\n",
    "- Lämpligt vid val mellan många möjliga fall med enkel matchning"
   ]
  },
  {
   "cell_type": "code",
   "execution_count": null,
   "metadata": {},
   "outputs": [],
   "source": [
    "method = 'bubble sort';\n",
    "\n",
    "switch(method)\n",
    "    case 'shell sort'\n",
    "        disp('Anropa shell sort')\n",
    "    case 'bubble sort'\n",
    "        disp('Anropa bubble sort')\n",
    "    case 'quick sort'\n",
    "        disp('Anropa quick sort')\n",
    "    otherwise\n",
    "        disp('Okänd metod!')\n",
    "end"
   ]
  },
  {
   "cell_type": "markdown",
   "metadata": {
    "slideshow": {
     "slide_type": "slide"
    }
   },
   "source": [
    "# Container datatyper\n",
    "\n",
    "- Arrayer (multi dimensionella arrayer med element av samma typ)\n",
    "- Strukturer (flera delobjekt av olika typ)\n",
    "- CellArray ?\n",
    "- Kommaseparerad lista (Tuple?)"
   ]
  },
  {
   "cell_type": "markdown",
   "metadata": {
    "slideshow": {
     "slide_type": "subslide"
    }
   },
   "source": [
    "## Multi-dimensionella arrayer"
   ]
  },
  {
   "cell_type": "code",
   "execution_count": null,
   "metadata": {},
   "outputs": [],
   "source": [
    "% Endimensionell array\n",
    "\n",
    "x = [1, 8, 4]\n",
    "\n",
    "size(x)"
   ]
  },
  {
   "cell_type": "code",
   "execution_count": null,
   "metadata": {},
   "outputs": [],
   "source": [
    "% Två-dimensionell array (matris)\n",
    "\n",
    "y = [10, 3; 4, 9]\n",
    "\n",
    "size(y)"
   ]
  },
  {
   "cell_type": "code",
   "execution_count": null,
   "metadata": {
    "slideshow": {
     "slide_type": "subslide"
    }
   },
   "outputs": [],
   "source": [
    "% Array skapande: ones, zeros, rand\n",
    "\n",
    "x = ones([3, 6])\n",
    "y = zeros([3, 4])\n",
    "z = rand([3, 2])"
   ]
  },
  {
   "cell_type": "code",
   "execution_count": null,
   "metadata": {},
   "outputs": [],
   "source": [
    "% Sammansättning: cat\n",
    "\n",
    "h = cat(2, x, y)"
   ]
  },
  {
   "cell_type": "markdown",
   "metadata": {
    "slideshow": {
     "slide_type": "subslide"
    }
   },
   "source": [
    "# Container typer `struct`, `CellArray`, `table`\n",
    "\n",
    "- `struct` : namngivna medlemsvariabler\n",
    "- `cellarray` : array med element av olika typ\n",
    "- `table` : tabell container"
   ]
  },
  {
   "cell_type": "code",
   "execution_count": null,
   "metadata": {},
   "outputs": [],
   "source": [
    "s = struct('weight', 10., 'height', 123.)\n",
    "\n",
    "s.weight"
   ]
  },
  {
   "cell_type": "code",
   "execution_count": null,
   "metadata": {},
   "outputs": [],
   "source": [
    "% CellArray\n",
    "\n",
    "ca = {10.12, 100, 'Hej!'}"
   ]
  },
  {
   "cell_type": "code",
   "execution_count": null,
   "metadata": {
    "slideshow": {
     "slide_type": "subslide"
    }
   },
   "outputs": [],
   "source": [
    "% table\n",
    "\n",
    "weight = [0.1, 3.]';\n",
    "height = [10., 2.]';\n",
    "t = table(weight, height)\n",
    "\n",
    "t.height"
   ]
  },
  {
   "cell_type": "code",
   "execution_count": null,
   "metadata": {},
   "outputs": [],
   "source": [
    "% struct array från tabell\n",
    "s = table2struct(t)\n",
    "\n",
    "s.weight"
   ]
  },
  {
   "cell_type": "markdown",
   "metadata": {
    "slideshow": {
     "slide_type": "slide"
    }
   },
   "source": [
    "# Övning 1\n",
    "\n",
    "- Summera alla tal från 1 till 10000 och skriv ut resultatet\n",
    "  - använd en `for` loop\n",
    "  - Svar: 50005000"
   ]
  },
  {
   "cell_type": "code",
   "execution_count": null,
   "metadata": {},
   "outputs": [],
   "source": []
  },
  {
   "cell_type": "code",
   "execution_count": null,
   "metadata": {
    "slideshow": {
     "slide_type": "skip"
    }
   },
   "outputs": [],
   "source": [
    "n = 0;\n",
    "for x = 1:10000\n",
    "    n = n + x;\n",
    "end\n",
    "n"
   ]
  },
  {
   "cell_type": "markdown",
   "metadata": {
    "slideshow": {
     "slide_type": "subslide"
    }
   },
   "source": [
    "# Övning 2\n",
    "\n",
    "- Summera alla udda tal från 1 till 10000 och skriv ut resultatet\n",
    "  - använd en `while` loop\n",
    "  - Svar: 25000000"
   ]
  },
  {
   "cell_type": "code",
   "execution_count": null,
   "metadata": {},
   "outputs": [],
   "source": []
  },
  {
   "cell_type": "code",
   "execution_count": null,
   "metadata": {
    "slideshow": {
     "slide_type": "skip"
    }
   },
   "outputs": [],
   "source": [
    "n = 0;\n",
    "x = 1;\n",
    "while x <= 10000\n",
    "    n = n + x;\n",
    "    x = x + 2;\n",
    "end\n",
    "n"
   ]
  },
  {
   "cell_type": "markdown",
   "metadata": {
    "slideshow": {
     "slide_type": "subslide"
    }
   },
   "source": [
    "# Övning 3\n",
    "\n",
    "- Summera alla tal som är jämnt delbara med 3 mellan 1 och 10000 och skriv ut resultatet\n",
    "  - Svar: 16668333"
   ]
  },
  {
   "cell_type": "code",
   "execution_count": null,
   "metadata": {},
   "outputs": [],
   "source": []
  },
  {
   "cell_type": "code",
   "execution_count": null,
   "metadata": {
    "slideshow": {
     "slide_type": "skip"
    }
   },
   "outputs": [],
   "source": [
    "n = 0;\n",
    "for x = 1:10000\n",
    "    if rem(x, 3) == 0\n",
    "        n = n + x;\n",
    "    end\n",
    "end\n",
    "n"
   ]
  }
 ],
 "metadata": {
  "celltoolbar": "Slideshow",
  "kernelspec": {
   "display_name": "Matlab",
   "language": "matlab",
   "name": "matlab"
  },
  "language_info": {
   "codemirror_mode": "octave",
   "file_extension": ".m",
   "help_links": [
    {
     "text": "MetaKernel Magics",
     "url": "https://metakernel.readthedocs.io/en/latest/source/README.html"
    }
   ],
   "mimetype": "text/x-octave",
   "name": "matlab",
   "version": "0.16.11"
  }
 },
 "nbformat": 4,
 "nbformat_minor": 5
}
