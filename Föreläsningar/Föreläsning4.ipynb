{
 "cells": [
  {
   "cell_type": "code",
   "execution_count": null,
   "id": "212686e0",
   "metadata": {
    "slideshow": {
     "slide_type": "skip"
    }
   },
   "outputs": [],
   "source": [
    "format compact"
   ]
  },
  {
   "cell_type": "markdown",
   "id": "3e521b14",
   "metadata": {
    "slideshow": {
     "slide_type": "slide"
    }
   },
   "source": [
    "# Föreläsning 4: Fraktaler\n",
    "### Matlab Programmering, en introduktion"
   ]
  },
  {
   "cell_type": "markdown",
   "id": "577a76b8",
   "metadata": {
    "slideshow": {
     "slide_type": "fragment"
    }
   },
   "source": [
    "Exempel på fraktaler\n",
    "\n",
    "- Koch-kurvan\n",
    "- Fern-fraktalen\n",
    "- Mandelbrot och Julia fraktalerna\n",
    "- Exempel på 3D-fraktal"
   ]
  },
  {
   "cell_type": "markdown",
   "id": "fa792310",
   "metadata": {
    "slideshow": {
     "slide_type": "subslide"
    }
   },
   "source": [
    "## Koch-kurvan och snöflingan\n",
    "\n",
    "<div>\n",
    "<img src=\"https://git.oru.se/hosd/matlab-intro/-/raw/master/%C3%96vningar/l%C3%B6sningsf%C3%B6rslag/koch.svg\" width=800>\n",
    "</div>\n",
    "\n",
    "är en själv-similär fraktal."
   ]
  },
  {
   "cell_type": "markdown",
   "id": "9c3c376f",
   "metadata": {
    "slideshow": {
     "slide_type": "subslide"
    }
   },
   "source": [
    "## Koch-kurvan och snöflingan\n",
    "\n",
    "konstrueras iterativt genom att\n",
    "\n",
    "1. Givet en linje mellan två punkter\n",
    "2. Dela upp linjen i fyra nya linjer med 1/3 av linjens längd, enl. figur nedan.\n",
    "3. För varje nytt linje-segment repetera proceduren från punkt 1."
   ]
  },
  {
   "cell_type": "markdown",
   "id": "5a43de34",
   "metadata": {},
   "source": [
    "<div>\n",
    "<img src=\"https://git.oru.se/hosd/matlab-intro/-/raw/master/%C3%96vningar/l%C3%B6sningsf%C3%B6rslag/koch_steps.png\">\n",
    "</div>"
   ]
  },
  {
   "cell_type": "markdown",
   "id": "284e75a7",
   "metadata": {
    "slideshow": {
     "slide_type": "subslide"
    }
   },
   "source": [
    "# Vektor-formler för Koch kurvan\n",
    "\n"
   ]
  },
  {
   "cell_type": "markdown",
   "id": "7b9b6d92",
   "metadata": {
    "slideshow": {
     "slide_type": "slide"
    }
   },
   "source": [
    "# Mer fraktaler"
   ]
  },
  {
   "cell_type": "markdown",
   "id": "b380e82b",
   "metadata": {
    "slideshow": {
     "slide_type": "subslide"
    }
   },
   "source": [
    "## Barnsley-ormbunken\n",
    "\n",
    "En fraktal som ser ut som en ormbunke\n",
    "\n",
    "<div>\n",
    "<img src=\"https://git.oru.se/hosd/matlab-intro/-/raw/master/%C3%96vningar/l%C3%B6sningsf%C3%B6rslag/barnsley.png\" width=300>\n",
    "</div>"
   ]
  },
  {
   "cell_type": "markdown",
   "id": "829f4deb",
   "metadata": {
    "slideshow": {
     "slide_type": "subslide"
    }
   },
   "source": [
    "# Mandelbrot och Julia fraktalerna\n",
    "\n",
    "Båda dessa fraktaler är baserade på iterativ applicering av funktionen\n",
    "\n",
    "$$\n",
    "f(z) = z^2 + c\n",
    "$$\n",
    "\n",
    "där $z$ och $c$ är komplexa tal.\n",
    "\n",
    "<div>\n",
    "<img src=\"https://git.oru.se/hosd/matlab-intro/-/raw/master/%C3%96vningar/l%C3%B6sningsf%C3%B6rslag/mandelbrot.png\">\n",
    "</div>\n",
    "\n",
    "<div>\n",
    "<img src=\"https://git.oru.se/hosd/matlab-intro/-/raw/master/%C3%96vningar/l%C3%B6sningsf%C3%B6rslag/julia.png\">\n",
    "</div>"
   ]
  },
  {
   "cell_type": "markdown",
   "id": "bcb4c2d3",
   "metadata": {
    "slideshow": {
     "slide_type": "subslide"
    }
   },
   "source": [
    "# Exempel på 3D-fraktal\n",
    "\n",
    "<https://js1k.com/2016-elemental/demo/2552>\n",
    "\n",
    "För detaljer se,\n",
    "<https://gist.github.com/literallylara/064b5dd878d803d6422a96cc046ea33f>"
   ]
  },
  {
   "cell_type": "markdown",
   "id": "8556a65e",
   "metadata": {
    "slideshow": {
     "slide_type": "fragment"
    }
   },
   "source": [
    "## Slut på föreläsning 4\n",
    "\n",
    "### Övning 4 - Fraktaler\n",
    "\n",
    "<https://git.oru.se/hosd/matlab-intro/>"
   ]
  }
 ],
 "metadata": {
  "celltoolbar": "Slideshow",
  "kernelspec": {
   "display_name": "Matlab",
   "language": "matlab",
   "name": "matlab"
  },
  "language_info": {
   "codemirror_mode": "octave",
   "file_extension": ".m",
   "help_links": [
    {
     "text": "MetaKernel Magics",
     "url": "https://metakernel.readthedocs.io/en/latest/source/README.html"
    }
   ],
   "mimetype": "text/x-octave",
   "name": "matlab",
   "version": "0.17.1"
  }
 },
 "nbformat": 4,
 "nbformat_minor": 5
}
