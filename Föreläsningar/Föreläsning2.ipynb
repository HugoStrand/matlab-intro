{
 "cells": [
  {
   "cell_type": "code",
   "execution_count": null,
   "metadata": {
    "slideshow": {
     "slide_type": "skip"
    }
   },
   "outputs": [],
   "source": [
    "format compact"
   ]
  },
  {
   "cell_type": "markdown",
   "metadata": {
    "slideshow": {
     "slide_type": "slide"
    }
   },
   "source": [
    "# Föreläsning 2\n",
    "### Matlab Programmering, en introduktion\n",
    "\n",
    "<https://git.oru.se/hosd/matlab-intro/>"
   ]
  },
  {
   "cell_type": "markdown",
   "metadata": {
    "slideshow": {
     "slide_type": "fragment"
    }
   },
   "source": [
    "- Funktioner\n",
    "- Funktionsanrop\n",
    "\n",
    "- Argument\n",
    "\n",
    "- Resultat värden\n",
    "- Multipla resultat"
   ]
  },
  {
   "cell_type": "markdown",
   "metadata": {
    "slideshow": {
     "slide_type": "subslide"
    }
   },
   "source": [
    "Koncept\n",
    "- Nestade funktioner: Funktioner som anropar funktioner\n",
    "- Rekursiva funktioner: Funktion som anropar sig själv\n",
    "\n",
    "Exempel\n",
    "- Fibonacci\n",
    "- Sortering\n",
    "- Rot-lösning"
   ]
  },
  {
   "cell_type": "markdown",
   "metadata": {
    "slideshow": {
     "slide_type": "slide"
    }
   },
   "source": [
    "# Funktioner\n",
    "\n",
    "- I MATLAB måste varje funktion definieras i en separat fil\n",
    "- Filen måste ha samman namn som funktionen och ha filändelse `.m`,\n",
    "  t.ex. `my_function.m`"
   ]
  },
  {
   "cell_type": "code",
   "execution_count": null,
   "metadata": {},
   "outputs": [],
   "source": [
    "%%file my_function.m\n",
    "\n",
    "function my_function()\n",
    "    disp('Hi from my_function!')\n",
    "end"
   ]
  },
  {
   "cell_type": "code",
   "execution_count": null,
   "metadata": {},
   "outputs": [],
   "source": [
    "my_function()"
   ]
  },
  {
   "cell_type": "markdown",
   "metadata": {
    "slideshow": {
     "slide_type": "subslide"
    }
   },
   "source": [
    "# Funktions-argument\n",
    "\n",
    "- Skicka variabler som input till en funktion"
   ]
  },
  {
   "cell_type": "code",
   "execution_count": null,
   "metadata": {},
   "outputs": [],
   "source": [
    "%%file my_function_with_arguments.m\n",
    "\n",
    "function my_function_with_arguments(name, index, number)\n",
    "    disp(\"Hi from my_function_with_arguments\")\n",
    "    disp(\"name = \" + name)\n",
    "    disp(\"index = \" + num2str(index))\n",
    "    disp(\"number = \" + num2str(number))\n",
    "end"
   ]
  },
  {
   "cell_type": "code",
   "execution_count": null,
   "metadata": {},
   "outputs": [],
   "source": [
    "my_function_with_arguments(\"Ada\", 42, 13.37)"
   ]
  },
  {
   "cell_type": "markdown",
   "metadata": {
    "slideshow": {
     "slide_type": "subslide"
    }
   },
   "source": [
    "# Funktions-resultat (return values)\n",
    "\n",
    "En funktion kan också returnera resultat genom resultatvärden."
   ]
  },
  {
   "cell_type": "code",
   "execution_count": null,
   "metadata": {},
   "outputs": [],
   "source": [
    "%%file my_function_with_return.m\n",
    "\n",
    "function A = my_function_with_return()\n",
    "    A = 'Result from the function my_function_with_return!';\n",
    "end"
   ]
  },
  {
   "cell_type": "code",
   "execution_count": null,
   "metadata": {},
   "outputs": [],
   "source": [
    "message = my_function_with_return();\n",
    "message"
   ]
  },
  {
   "cell_type": "markdown",
   "metadata": {
    "slideshow": {
     "slide_type": "subslide"
    }
   },
   "source": [
    "# Multipla funktions-resultat (return values)\n",
    "\n",
    "Returnera flera resultat mha. multipla resultatvärden."
   ]
  },
  {
   "cell_type": "code",
   "execution_count": null,
   "metadata": {
    "slideshow": {
     "slide_type": "-"
    }
   },
   "outputs": [],
   "source": [
    "%%file my_function_with_multiple_returns.m\n",
    "\n",
    "function [name, index, value] = my_function_with_multiple_returns()\n",
    "    name = 'Ada Lovelace';\n",
    "    index = 42;\n",
    "    value = 13.37;\n",
    "end"
   ]
  },
  {
   "cell_type": "code",
   "execution_count": null,
   "metadata": {},
   "outputs": [],
   "source": [
    "[n, i, v] = my_function_with_multiple_returns();\n",
    "n\n",
    "i\n",
    "v"
   ]
  },
  {
   "cell_type": "markdown",
   "metadata": {
    "slideshow": {
     "slide_type": "subslide"
    }
   },
   "source": [
    "# Anonyma funktioner\n",
    "\n",
    "Enkla funktioner kan definieras som anonyma funktioner\n",
    "\n",
    "Exempel: Implementera $h(x)$ definierad som\n",
    "\n",
    "$$\n",
    "h(x) = x^2 + x + 1\n",
    "$$"
   ]
  },
  {
   "cell_type": "code",
   "execution_count": null,
   "metadata": {},
   "outputs": [],
   "source": [
    "h = @(x) x^2 + x + 1;\n",
    "\n",
    "h(1.2)"
   ]
  },
  {
   "cell_type": "markdown",
   "metadata": {
    "slideshow": {
     "slide_type": "slide"
    }
   },
   "source": [
    "## Funktions-koncept\n",
    "\n",
    "### Nestade funktioner\n",
    "- Funktioner som anropar andra funktioner\n",
    "\n",
    "### Rekursiva funktioner\n",
    "- Funktioner som anropar sig själva"
   ]
  },
  {
   "cell_type": "markdown",
   "metadata": {
    "slideshow": {
     "slide_type": "subslide"
    }
   },
   "source": [
    "# \"Nestade\" funktioner\n",
    "\n",
    "Funktion, som anropar funktion, som anropar funktion, ..."
   ]
  },
  {
   "cell_type": "code",
   "execution_count": null,
   "metadata": {
    "slideshow": {
     "slide_type": "fragment"
    }
   },
   "outputs": [],
   "source": [
    "%%file A.m\n",
    "\n",
    "function A()\n",
    "    disp('Function A, calling function B')\n",
    "    B()\n",
    "    disp(\"Function A done\")\n",
    "end"
   ]
  },
  {
   "cell_type": "code",
   "execution_count": null,
   "metadata": {},
   "outputs": [],
   "source": [
    "%%file B.m\n",
    "\n",
    "function B()\n",
    "    disp(\"Function B, calling function C\")\n",
    "    C()\n",
    "    disp(\"Function B done\")\n",
    "end    "
   ]
  },
  {
   "cell_type": "code",
   "execution_count": null,
   "metadata": {},
   "outputs": [],
   "source": [
    "%%file C.m\n",
    "\n",
    "function C()\n",
    "    disp(\"Function C\")\n",
    "end"
   ]
  },
  {
   "cell_type": "code",
   "execution_count": null,
   "metadata": {},
   "outputs": [],
   "source": [
    "A()"
   ]
  },
  {
   "cell_type": "markdown",
   "metadata": {
    "slideshow": {
     "slide_type": "slide"
    }
   },
   "source": [
    "# Rekursion\n",
    "\n",
    "Programmeringskoncept baserat på \n",
    "- en funktion som anropar **sig själv**, \n",
    "- detta kallas för ett **rekursivt** funktionsanrop.\n",
    "\n",
    "Antalet **rekursioner** kan inte vara oändligt många.\n",
    "\n",
    "Dvs. det krävs något som terminerar rekursionen."
   ]
  },
  {
   "cell_type": "markdown",
   "metadata": {
    "slideshow": {
     "slide_type": "subslide"
    }
   },
   "source": [
    "## Exempel\n",
    "\n",
    "Definiera funktionen $f(n)$ enligt\n",
    "$$\n",
    "f(1) = 1 \\\\\n",
    "f(n) = n + f(n - 1)\n",
    "$$\n",
    "\n",
    "Detta är en **rekursiv definition** efterson värdet på $f(n)$ definierats genom värdet på $f(n - 1)$.\n",
    "\n",
    "För ett givet positivt heltal $n$ kan denna rekursiva definiton appliceras om och om igen, dvs. **rekursivt**.\n",
    "\n",
    "Tillslut kommer $n - 1$ att bli lika med 1 och rekursionen kan termineras med hjälp av den första definitionen $f(1) = 1$."
   ]
  },
  {
   "cell_type": "code",
   "execution_count": null,
   "metadata": {
    "slideshow": {
     "slide_type": "subslide"
    }
   },
   "outputs": [],
   "source": [
    "%%file f.m\n",
    "\n",
    "function m = f(n)\n",
    "    if n == 1\n",
    "        m = 1;\n",
    "    else\n",
    "        m = n + f(n - 1);\n",
    "    end\n",
    "end"
   ]
  },
  {
   "cell_type": "code",
   "execution_count": null,
   "metadata": {},
   "outputs": [],
   "source": [
    "f(10)"
   ]
  },
  {
   "cell_type": "markdown",
   "metadata": {
    "slideshow": {
     "slide_type": "subslide"
    }
   },
   "source": [
    "# Iterativ implementation av rekursion\n",
    "\n",
    "- Rekursion är ett kraftfullt matematiskt koncept.\n",
    "- Kan hantera oändliga rekursiva serier\n",
    "\n",
    "I många fall kan dock en **rekursiv algoritm**,\n",
    "\n",
    "omformuleras i form av en **iterativ algoritm**."
   ]
  },
  {
   "cell_type": "markdown",
   "metadata": {
    "slideshow": {
     "slide_type": "subslide"
    }
   },
   "source": [
    "Betrakta det tidigare exemplet\n",
    "$$\n",
    "f(1) = 1 \\\\\n",
    "f(n) = n + f(n - 1)\n",
    "$$\n",
    "Detta kan skrivas om som\n",
    "$$\n",
    "f(n) = n + (n - 1)  + \\dots + 2 + 1 \n",
    "\\\\\n",
    "= 1 + 2 + \\dots + (n - 1) + n\n",
    "$$\n",
    "dvs. summan av alla tal från 1 till n. \n",
    "\n",
    "Detta kan implementeras med en direkt `for`-loop."
   ]
  },
  {
   "cell_type": "code",
   "execution_count": null,
   "metadata": {
    "slideshow": {
     "slide_type": "subslide"
    }
   },
   "outputs": [],
   "source": [
    "%%file f_iterative.m\n",
    "\n",
    "function m = f_iterative(n)\n",
    "    m = 0;\n",
    "    for k = 1:n\n",
    "        m = m + k;\n",
    "    end\n",
    "end"
   ]
  },
  {
   "cell_type": "code",
   "execution_count": null,
   "metadata": {},
   "outputs": [],
   "source": [
    "f(10)\n",
    "f_iterative(10)"
   ]
  },
  {
   "cell_type": "markdown",
   "metadata": {
    "slideshow": {
     "slide_type": "slide"
    }
   },
   "source": [
    "# Fibonacci serien $F_n$\n",
    "\n",
    "En talserie som dyker upp på många ställen i matematiken <https://en.wikipedia.org/wiki/Fibonacci_number>\n",
    "\n",
    "Definition (obs! rekursiv)\n",
    "$$\n",
    "F_0 = 0 \\\\\n",
    "F_1 = 1 \\\\\n",
    "F_n = F_{n-1} + F_{n-2}\n",
    "$$\n",
    "De första talen i serien är\n",
    "$$ 0, 1, 1, 2, 3, 5, 8, 13, 21, 34, 55, 89, 144 $$"
   ]
  },
  {
   "cell_type": "code",
   "execution_count": null,
   "metadata": {
    "slideshow": {
     "slide_type": "subslide"
    }
   },
   "outputs": [],
   "source": [
    "%%file fibonacci_recursive.m\n",
    "\n",
    "function F_N = fibonacci_recursive(N)\n",
    "  if N > 1\n",
    "    F_N = fibonacci_recursive(N - 1) + fibonacci_recursive(N - 2);\n",
    "  else\n",
    "    F_N = N;\n",
    "  end\n",
    "end"
   ]
  },
  {
   "cell_type": "code",
   "execution_count": null,
   "metadata": {},
   "outputs": [],
   "source": [
    "F = [];\n",
    "for n = 0:10\n",
    "  F(n+1) = fibonacci_recursive(n);\n",
    "end\n",
    "F"
   ]
  },
  {
   "cell_type": "markdown",
   "metadata": {
    "slideshow": {
     "slide_type": "subslide"
    }
   },
   "source": [
    "## Iterativ implementation av Fibonacci serien\n",
    "\n",
    "$$\n",
    "F_0 = 0 ,\\, \\quad F_1 = 1 \\, , \\quad F_n = F_{n-1} + F_{n-2}\n",
    "$$\n",
    "\n",
    "Hur kan vi formulera om detta till en ren loop?"
   ]
  },
  {
   "cell_type": "code",
   "execution_count": null,
   "metadata": {
    "slideshow": {
     "slide_type": "fragment"
    }
   },
   "outputs": [],
   "source": [
    "%%file fibonacci_iterative.m\n",
    "\n",
    "function F = fibonacci_iterative(N)\n",
    "  if N < 2\n",
    "    F = N;\n",
    "  else\n",
    "    F_Nm2 = 0;\n",
    "    F_Nm1 = 1;\n",
    "    for n = 2:N\n",
    "      F = F_Nm1 + F_Nm2;\n",
    "      F_Nm2 = F_Nm1;\n",
    "      F_Nm1 = F;\n",
    "    end\n",
    "  end\n",
    "end"
   ]
  },
  {
   "cell_type": "code",
   "execution_count": null,
   "metadata": {},
   "outputs": [],
   "source": [
    "F = [];\n",
    "for n = 0:10\n",
    "  F(n+1) = fibonacci_iterative(n);\n",
    "end\n",
    "F"
   ]
  },
  {
   "cell_type": "markdown",
   "metadata": {
    "slideshow": {
     "slide_type": "subslide"
    }
   },
   "source": [
    "## Iterativ Fibonacci serie med alla tal upp till N\n",
    "\n",
    "Den iterativa implementationen bestämmer successivt alla tal upp till the N:te Fibonacci talet.\n",
    "\n",
    "Hur kan vi använda en lista för att implementera en funktion som returnerar en vektor med alla Fibonacci tal upp till N?"
   ]
  },
  {
   "cell_type": "code",
   "execution_count": null,
   "metadata": {
    "slideshow": {
     "slide_type": "fragment"
    }
   },
   "outputs": [],
   "source": [
    "%%file fibonacci_vector.m\n",
    "\n",
    "function F = fibonacci_vector(N)\n",
    "  if N == 0\n",
    "    F = [0];\n",
    "  else\n",
    "    F = [0, 1];\n",
    "    for n = 2:N\n",
    "      F(n+1) = F(n) + F(n-1);\n",
    "    end\n",
    "  end\n",
    "end"
   ]
  },
  {
   "cell_type": "code",
   "execution_count": null,
   "metadata": {},
   "outputs": [],
   "source": [
    "fibonacci_vector(10)"
   ]
  },
  {
   "cell_type": "markdown",
   "metadata": {
    "slideshow": {
     "slide_type": "slide"
    }
   },
   "source": [
    "# Algoritmer\n",
    "\n",
    "Programmatiska recept för att lösa specifika problem\n",
    "\n",
    "Exempel\n",
    "- **Sortering**: Sortera en lista av tal $[8, 4, 6, 1]$\n",
    "- **Rot-lösning**: Hitta lösningen $x$ till en ekvation $g(x) = 0$"
   ]
  },
  {
   "cell_type": "markdown",
   "metadata": {
    "slideshow": {
     "slide_type": "subslide"
    }
   },
   "source": [
    "Det finns många algoritmer för att lösa dessa problem. De olika algoritmern har olika styrkor och svagheter.\n",
    "\n",
    "**OBS!** I MATLAB finns färdiga funktioner som löser dessa problem med de mest robusta och effektiva algoritmerna."
   ]
  },
  {
   "cell_type": "code",
   "execution_count": null,
   "metadata": {},
   "outputs": [],
   "source": [
    "l = [8, 4, 6, 1];\n",
    "sort(l)"
   ]
  },
  {
   "cell_type": "code",
   "execution_count": null,
   "metadata": {
    "slideshow": {
     "slide_type": "subslide"
    }
   },
   "outputs": [],
   "source": [
    "g = @(x) x.^3 + x.^2 - x - 2;\n",
    "x0 = fsolve(g, 3.);\n",
    "x0"
   ]
  },
  {
   "cell_type": "code",
   "execution_count": null,
   "metadata": {},
   "outputs": [],
   "source": [
    "x = linspace(-2, 2, 100);\n",
    "plot(x, g(x))\n",
    "hold on\n",
    "plot(x0, 0., 'or')\n",
    "plot(x, 0.*x, '-k')\n",
    "legend('h(x)', 'h(x)=0')\n",
    "xlabel('x')"
   ]
  },
  {
   "cell_type": "markdown",
   "metadata": {
    "slideshow": {
     "slide_type": "slide"
    }
   },
   "source": [
    "## Slut på föreläsning 2\n",
    "\n",
    "### Övning 2 - Sorterings-algortmer\n",
    "\n",
    "<https://git.oru.se/hosd/matlab-intro/>"
   ]
  }
 ],
 "metadata": {
  "celltoolbar": "Slideshow",
  "kernelspec": {
   "display_name": "Matlab",
   "language": "matlab",
   "name": "matlab"
  },
  "language_info": {
   "codemirror_mode": "octave",
   "file_extension": ".m",
   "help_links": [
    {
     "text": "MetaKernel Magics",
     "url": "https://metakernel.readthedocs.io/en/latest/source/README.html"
    }
   ],
   "mimetype": "text/x-octave",
   "name": "matlab",
   "version": "0.16.11"
  }
 },
 "nbformat": 4,
 "nbformat_minor": 5
}
