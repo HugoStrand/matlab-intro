{
 "cells": [
  {
   "cell_type": "code",
   "execution_count": 3,
   "id": "14071bbc",
   "metadata": {
    "slideshow": {
     "slide_type": "skip"
    }
   },
   "outputs": [],
   "source": [
    "format compact"
   ]
  },
  {
   "cell_type": "markdown",
   "id": "446a1d88",
   "metadata": {
    "slideshow": {
     "slide_type": "slide"
    }
   },
   "source": [
    "# Föreläsning 2\n",
    "### Matlab Programmering, en introduktion\n",
    "\n",
    "<https://git.oru.se/hosd/matlab-intro/>"
   ]
  },
  {
   "cell_type": "markdown",
   "id": "758dab8b",
   "metadata": {
    "slideshow": {
     "slide_type": "fragment"
    }
   },
   "source": [
    "- Funktioner\n",
    "- Funktionsanrop\n",
    "\n",
    "- Argument\n",
    "\n",
    "- Resultat värden\n",
    "- Multipla resultat"
   ]
  },
  {
   "cell_type": "markdown",
   "id": "da974e6c",
   "metadata": {
    "slideshow": {
     "slide_type": "subslide"
    }
   },
   "source": [
    "Koncept\n",
    "\n",
    "- Funktioner\n",
    "- Nestlade funktioner: *Funktioner som anropar funktioner*\n",
    "- Rekursiva funktioner: *Funktion som anropar sig själv*\n",
    "\n",
    "Exempel\n",
    "- Fibonacci serien\n",
    "- Sortering\n",
    "- Rot-lösning"
   ]
  },
  {
   "cell_type": "markdown",
   "id": "c46b9856",
   "metadata": {
    "slideshow": {
     "slide_type": "slide"
    }
   },
   "source": [
    "# Funktioner\n",
    "\n",
    "- I MATLAB måste varje funktion definieras i en separat fil\n",
    "- Filen måste ha samman namn som funktionen och ha filändelse `.m`,\n",
    "  t.ex. `my_function.m`"
   ]
  },
  {
   "cell_type": "code",
   "execution_count": 4,
   "id": "5df32ed9",
   "metadata": {},
   "outputs": [
    {
     "name": "stdout",
     "output_type": "stream",
     "text": [
      "Created file '/Users/hugstr/dev/matlab-intro/Föreläsningar/my_function.m'.\n"
     ]
    }
   ],
   "source": [
    "%%file my_function.m\n",
    "\n",
    "function my_function()\n",
    "    disp('Hi from my_function!')\n",
    "end"
   ]
  },
  {
   "cell_type": "code",
   "execution_count": 5,
   "id": "dfaa9685",
   "metadata": {},
   "outputs": [
    {
     "name": "stdout",
     "output_type": "stream",
     "text": [
      "Hi from my_function!\n"
     ]
    }
   ],
   "source": [
    "my_function()"
   ]
  },
  {
   "cell_type": "markdown",
   "id": "b8b88184",
   "metadata": {
    "slideshow": {
     "slide_type": "subslide"
    }
   },
   "source": [
    "# Funktions-argument\n",
    "\n",
    "- Skicka variabler som input till en funktion"
   ]
  },
  {
   "cell_type": "code",
   "execution_count": 6,
   "id": "5ed91f0c",
   "metadata": {},
   "outputs": [
    {
     "name": "stdout",
     "output_type": "stream",
     "text": [
      "Created file '/Users/hugstr/dev/matlab-intro/Föreläsningar/my_function_with_arguments.m'.\n"
     ]
    }
   ],
   "source": [
    "%%file my_function_with_arguments.m\n",
    "\n",
    "function my_function_with_arguments(name, index, number)\n",
    "    disp(\"Hi from my_function_with_arguments\")\n",
    "    disp(\"name = \" + name)\n",
    "    disp(\"index = \" + num2str(index))\n",
    "    disp(\"number = \" + num2str(number))\n",
    "end"
   ]
  },
  {
   "cell_type": "code",
   "execution_count": 7,
   "id": "c2f0a6c4",
   "metadata": {},
   "outputs": [
    {
     "name": "stdout",
     "output_type": "stream",
     "text": [
      "Hi from my_function_with_arguments\n",
      "name = Ada\n",
      "index = 42\n",
      "number = 13.37\n"
     ]
    }
   ],
   "source": [
    "my_function_with_arguments(\"Ada\", 42, 13.37)"
   ]
  },
  {
   "cell_type": "markdown",
   "id": "b31553c1",
   "metadata": {
    "slideshow": {
     "slide_type": "subslide"
    }
   },
   "source": [
    "# Funktions-resultat (return values)\n",
    "\n",
    "En funktion kan också returnera resultat genom resultatvärden."
   ]
  },
  {
   "cell_type": "code",
   "execution_count": 8,
   "id": "f3a42092",
   "metadata": {},
   "outputs": [
    {
     "name": "stdout",
     "output_type": "stream",
     "text": [
      "Created file '/Users/hugstr/dev/matlab-intro/Föreläsningar/my_function_with_return.m'.\n"
     ]
    }
   ],
   "source": [
    "%%file my_function_with_return.m\n",
    "\n",
    "function A = my_function_with_return()\n",
    "    A = 'Result from the function my_function_with_return!';\n",
    "end"
   ]
  },
  {
   "cell_type": "code",
   "execution_count": 9,
   "id": "a2dc899d",
   "metadata": {},
   "outputs": [
    {
     "name": "stdout",
     "output_type": "stream",
     "text": [
      "message =\n",
      "    'Result from the function my_function_with_return!'\n"
     ]
    }
   ],
   "source": [
    "message = my_function_with_return();\n",
    "message"
   ]
  },
  {
   "cell_type": "markdown",
   "id": "066d000a",
   "metadata": {
    "slideshow": {
     "slide_type": "subslide"
    }
   },
   "source": [
    "# Multipla funktions-resultat (return values)\n",
    "\n",
    "Returnera flera resultat mha. multipla resultatvärden."
   ]
  },
  {
   "cell_type": "code",
   "execution_count": 10,
   "id": "52536530",
   "metadata": {
    "slideshow": {
     "slide_type": "-"
    }
   },
   "outputs": [
    {
     "name": "stdout",
     "output_type": "stream",
     "text": [
      "Created file '/Users/hugstr/dev/matlab-intro/Föreläsningar/my_function_with_multiple_returns.m'.\n"
     ]
    }
   ],
   "source": [
    "%%file my_function_with_multiple_returns.m\n",
    "\n",
    "function [name, index, value] = my_function_with_multiple_returns()\n",
    "    name = 'Ada Lovelace';\n",
    "    index = 42;\n",
    "    value = 13.37;\n",
    "end"
   ]
  },
  {
   "cell_type": "code",
   "execution_count": 11,
   "id": "4d82d9f2",
   "metadata": {},
   "outputs": [
    {
     "name": "stdout",
     "output_type": "stream",
     "text": [
      "n =\n",
      "    'Ada Lovelace'\n",
      "i =\n",
      "    42\n",
      "v =\n",
      "   13.3700\n"
     ]
    }
   ],
   "source": [
    "[n, i, v] = my_function_with_multiple_returns();\n",
    "n\n",
    "i\n",
    "v"
   ]
  },
  {
   "cell_type": "markdown",
   "id": "d2cb011c",
   "metadata": {
    "slideshow": {
     "slide_type": "subslide"
    }
   },
   "source": [
    "# Anonyma funktioner\n",
    "\n",
    "Enkla funktioner kan definieras som anonyma funktioner\n",
    "\n",
    "Exempel: Implementera $h(x)$ definierad som\n",
    "\n",
    "$$\n",
    "h(x) = x^2 + x + 1\n",
    "$$"
   ]
  },
  {
   "cell_type": "code",
   "execution_count": 16,
   "id": "ed28409f",
   "metadata": {},
   "outputs": [
    {
     "name": "stdout",
     "output_type": "stream",
     "text": [
      "ans =\n",
      "    3.6400\n"
     ]
    }
   ],
   "source": [
    "h = @(x) x^2 + x + 1;\n",
    "\n",
    "h(1.2)"
   ]
  },
  {
   "cell_type": "markdown",
   "id": "f3a1b462",
   "metadata": {
    "slideshow": {
     "slide_type": "slide"
    }
   },
   "source": [
    "## Funktions-koncept\n",
    "\n",
    "### Nestade funktioner\n",
    "- Funktioner som anropar andra funktioner\n",
    "\n",
    "### Rekursiva funktioner\n",
    "- Funktioner som anropar sig själva"
   ]
  },
  {
   "cell_type": "markdown",
   "id": "201f874c",
   "metadata": {
    "slideshow": {
     "slide_type": "subslide"
    }
   },
   "source": [
    "## \"Nestade\" funktioner\n",
    "\n",
    "Funktion, som anropar funktion, som anropar funktion, ..."
   ]
  },
  {
   "cell_type": "code",
   "execution_count": 12,
   "id": "ecfbdad8",
   "metadata": {
    "slideshow": {
     "slide_type": "fragment"
    }
   },
   "outputs": [
    {
     "name": "stdout",
     "output_type": "stream",
     "text": [
      "Created file '/Users/hugstr/dev/matlab-intro/Föreläsningar/A.m'.\n"
     ]
    }
   ],
   "source": [
    "%%file A.m\n",
    "function A()\n",
    "    disp('Function A, calling function B')\n",
    "    B()\n",
    "    disp(\"Function A done\")\n",
    "end"
   ]
  },
  {
   "cell_type": "code",
   "execution_count": 13,
   "id": "027dcae3",
   "metadata": {},
   "outputs": [
    {
     "name": "stdout",
     "output_type": "stream",
     "text": [
      "Created file '/Users/hugstr/dev/matlab-intro/Föreläsningar/B.m'.\n"
     ]
    }
   ],
   "source": [
    "%%file B.m\n",
    "function B()\n",
    "    disp(\"Function B, calling function C\")\n",
    "    C()\n",
    "    disp(\"Function B done\")\n",
    "end    "
   ]
  },
  {
   "cell_type": "code",
   "execution_count": 14,
   "id": "d4ab21f0",
   "metadata": {},
   "outputs": [
    {
     "name": "stdout",
     "output_type": "stream",
     "text": [
      "Created file '/Users/hugstr/dev/matlab-intro/Föreläsningar/C.m'.\n"
     ]
    }
   ],
   "source": [
    "%%file C.m\n",
    "function C()\n",
    "    disp(\"Function C\")\n",
    "end"
   ]
  },
  {
   "cell_type": "code",
   "execution_count": 15,
   "id": "cc33ecef",
   "metadata": {},
   "outputs": [
    {
     "name": "stdout",
     "output_type": "stream",
     "text": [
      "Function A, calling function B\n",
      "Function B, calling function C\n",
      "Function C\n",
      "Function B done\n",
      "Function A done\n"
     ]
    }
   ],
   "source": [
    "A()"
   ]
  },
  {
   "cell_type": "markdown",
   "id": "9b2eaebb",
   "metadata": {
    "slideshow": {
     "slide_type": "slide"
    }
   },
   "source": [
    "# Rekursion\n",
    "\n",
    "Programmeringskoncept baserat på \n",
    "- en funktion som anropar **sig själv**, \n",
    "- detta kallas för ett **rekursivt** funktionsanrop.\n",
    "\n",
    "Antalet **rekursioner** kan inte vara oändligt många.\n",
    "\n",
    "(Dvs. det krävs något som terminerar rekursionen.)"
   ]
  },
  {
   "cell_type": "markdown",
   "id": "910ffc69",
   "metadata": {
    "slideshow": {
     "slide_type": "subslide"
    }
   },
   "source": [
    "## Exempel\n",
    "\n",
    "Definiera funktionen $f(n)$ enligt\n",
    "$$\n",
    "f(1) = 1 \\\\\n",
    "f(n) = n + f(n - 1)\n",
    "$$\n",
    "\n",
    "Detta är en **rekursiv definition** då $f(n)$ definierats genom $f(n - 1)$, etc."
   ]
  },
  {
   "cell_type": "markdown",
   "id": "9441a2ea",
   "metadata": {
    "slideshow": {
     "slide_type": "fragment"
    }
   },
   "source": [
    "För ett givet $n$ kan definiton appliceras om och om igen, dvs. **rekursivt**.\n",
    "\n",
    "$$ f(n) = n + f(n - 1) = n + (n - 1 + f(n - 2)) = \\dots \n",
    "\\\\ = n + (\\dots(2 + f(1) ) \\dots ) $$\n",
    "\n",
    "och termineras med hjälp av den första definitionen $f(1) = 1$."
   ]
  },
  {
   "cell_type": "code",
   "execution_count": 17,
   "id": "219967c9",
   "metadata": {
    "slideshow": {
     "slide_type": "subslide"
    }
   },
   "outputs": [
    {
     "name": "stdout",
     "output_type": "stream",
     "text": [
      "Created file '/Users/hugstr/dev/matlab-intro/Föreläsningar/f.m'.\n"
     ]
    }
   ],
   "source": [
    "%%file f.m\n",
    "\n",
    "function m = f(n)\n",
    "    if n == 1\n",
    "        m = 1;\n",
    "    else\n",
    "        m = n + f(n - 1);\n",
    "    end\n",
    "end"
   ]
  },
  {
   "cell_type": "code",
   "execution_count": 18,
   "id": "00989ac3",
   "metadata": {},
   "outputs": [
    {
     "name": "stdout",
     "output_type": "stream",
     "text": [
      "ans =\n",
      "    55\n"
     ]
    }
   ],
   "source": [
    "f(10)"
   ]
  },
  {
   "cell_type": "markdown",
   "id": "93715c8b",
   "metadata": {
    "slideshow": {
     "slide_type": "subslide"
    }
   },
   "source": [
    "# Iterativ implementation av rekursion\n",
    "\n",
    "- Rekursion är ett kraftfullt matematiskt koncept.\n",
    "- Kan hantera oändliga rekursiva serier\n",
    "\n",
    "I många fall kan dock en **rekursiv algoritm**,\n",
    "\n",
    "omformuleras i form av en **iterativ algoritm**."
   ]
  },
  {
   "cell_type": "markdown",
   "id": "ea4db023",
   "metadata": {
    "slideshow": {
     "slide_type": "subslide"
    }
   },
   "source": [
    "Betrakta det tidigare exemplet\n",
    "$$\n",
    "f(1) = 1 \\\\\n",
    "f(n) = n + f(n - 1)\n",
    "$$\n",
    "Detta kan skrivas om som\n",
    "\n",
    "$$\n",
    "f(n) = n + (n - 1)  + \\dots + 2 + 1 \n",
    "\\\\\n",
    "= 1 + 2 + \\dots + (n - 1) + n\n",
    "$$\n",
    "\n",
    "dvs. summan av alla tal från 1 till n. \n",
    "\n",
    "Detta kan implementeras med en direkt `for`-loop."
   ]
  },
  {
   "cell_type": "code",
   "execution_count": 19,
   "id": "6abda55e",
   "metadata": {
    "slideshow": {
     "slide_type": "subslide"
    }
   },
   "outputs": [
    {
     "name": "stdout",
     "output_type": "stream",
     "text": [
      "Created file '/Users/hugstr/dev/matlab-intro/Föreläsningar/f_iterative.m'.\n"
     ]
    }
   ],
   "source": [
    "%%file f_iterative.m\n",
    "\n",
    "function m = f_iterative(n)\n",
    "    m = 0;\n",
    "    for k = 1:n\n",
    "        m = m + k;\n",
    "    end\n",
    "end"
   ]
  },
  {
   "cell_type": "code",
   "execution_count": 20,
   "id": "f1be0d6d",
   "metadata": {},
   "outputs": [
    {
     "name": "stdout",
     "output_type": "stream",
     "text": [
      "ans =\n",
      "    55\n",
      "ans =\n",
      "    55\n"
     ]
    }
   ],
   "source": [
    "f(10)\n",
    "f_iterative(10)"
   ]
  },
  {
   "cell_type": "markdown",
   "id": "6776decb",
   "metadata": {
    "slideshow": {
     "slide_type": "slide"
    }
   },
   "source": [
    "# Fibonacci serien $F_n$\n",
    "\n",
    "En talserie som dyker upp på många ställen i matematiken <https://en.wikipedia.org/wiki/Fibonacci_number>\n",
    "\n",
    "Definition (obs! rekursiv)\n",
    "\n",
    "$$\n",
    "F_0 = 0 \\\\\n",
    "F_1 = 1 \\\\\n",
    "F_n = F_{n-1} + F_{n-2}\n",
    "$$\n",
    "\n",
    "De första talen i serien är\n",
    "\n",
    "$$ 0, 1, 1, 2, 3, 5, 8, 13, 21, 34, 55, 89, 144 $$"
   ]
  },
  {
   "cell_type": "code",
   "execution_count": 21,
   "id": "c20da74f",
   "metadata": {
    "slideshow": {
     "slide_type": "subslide"
    }
   },
   "outputs": [
    {
     "name": "stdout",
     "output_type": "stream",
     "text": [
      "Created file '/Users/hugstr/dev/matlab-intro/Föreläsningar/fibonacci_recursive.m'.\n"
     ]
    }
   ],
   "source": [
    "%%file fibonacci_recursive.m\n",
    "\n",
    "function F_N = fibonacci_recursive(N)\n",
    "  if N > 1\n",
    "    F_N = fibonacci_recursive(N - 1) + fibonacci_recursive(N - 2); % F_N = F_{N-1} + F_{N-2}\n",
    "  else\n",
    "    F_N = N;\n",
    "  end\n",
    "end"
   ]
  },
  {
   "cell_type": "code",
   "execution_count": 22,
   "id": "79bf6fcd",
   "metadata": {},
   "outputs": [
    {
     "name": "stdout",
     "output_type": "stream",
     "text": [
      "F =\n",
      "     0     1     1     2     3     5     8    13    21    34    55\n"
     ]
    }
   ],
   "source": [
    "F = [];\n",
    "for n = 0:10\n",
    "  F(n+1) = fibonacci_recursive(n);\n",
    "end\n",
    "F"
   ]
  },
  {
   "cell_type": "markdown",
   "id": "e6c01145",
   "metadata": {
    "slideshow": {
     "slide_type": "subslide"
    }
   },
   "source": [
    "## Iterativ implementation av Fibonacci serien\n",
    "\n",
    "$$\n",
    "F_0 = 0 ,\\, \\quad F_1 = 1 \\, , \\quad F_n = F_{n-1} + F_{n-2}\n",
    "$$\n",
    "\n",
    "Hur kan vi formulera om detta till en for loop?"
   ]
  },
  {
   "cell_type": "code",
   "execution_count": 23,
   "id": "23c84497",
   "metadata": {
    "slideshow": {
     "slide_type": "fragment"
    }
   },
   "outputs": [
    {
     "name": "stdout",
     "output_type": "stream",
     "text": [
      "Created file '/Users/hugstr/dev/matlab-intro/Föreläsningar/fibonacci_iterative.m'.\n"
     ]
    }
   ],
   "source": [
    "%%file fibonacci_iterative.m\n",
    "\n",
    "function F = fibonacci_iterative(N)\n",
    "  if N < 2\n",
    "    F = N;\n",
    "  else\n",
    "    F_Nm2 = 0;\n",
    "    F_Nm1 = 1;\n",
    "    for n = 2:N\n",
    "      F = F_Nm1 + F_Nm2;\n",
    "      F_Nm2 = F_Nm1;\n",
    "      F_Nm1 = F;\n",
    "    end\n",
    "  end\n",
    "end"
   ]
  },
  {
   "cell_type": "code",
   "execution_count": 24,
   "id": "a6872b7e",
   "metadata": {},
   "outputs": [
    {
     "name": "stdout",
     "output_type": "stream",
     "text": [
      "F =\n",
      "     0     1     1     2     3     5     8    13    21    34    55\n"
     ]
    }
   ],
   "source": [
    "F = [];\n",
    "for n = 0:10\n",
    "  F(n+1) = fibonacci_iterative(n);\n",
    "end\n",
    "F"
   ]
  },
  {
   "cell_type": "markdown",
   "id": "c55ab70e",
   "metadata": {
    "slideshow": {
     "slide_type": "subslide"
    }
   },
   "source": [
    "## Iterativ Fibonacci serie med alla tal upp till N\n",
    "\n",
    "Den iterativa implementationen bestämmer successivt alla tal upp till the N:te Fibonacci talet.\n",
    "\n",
    "Hur kan vi använda en lista för att returnera alla Fibonacci tal upp till N?"
   ]
  },
  {
   "cell_type": "code",
   "execution_count": 25,
   "id": "e642eb4a",
   "metadata": {
    "slideshow": {
     "slide_type": "fragment"
    }
   },
   "outputs": [
    {
     "name": "stdout",
     "output_type": "stream",
     "text": [
      "Created file '/Users/hugstr/dev/matlab-intro/Föreläsningar/fibonacci_vector.m'.\n"
     ]
    }
   ],
   "source": [
    "%%file fibonacci_vector.m\n",
    "\n",
    "function F = fibonacci_vector(N)\n",
    "  if N == 0\n",
    "    F = [0];\n",
    "  else\n",
    "    F = [0, 1];\n",
    "    for n = 2:N\n",
    "      F(n+1) = F(n) + F(n-1);\n",
    "    end\n",
    "  end\n",
    "end"
   ]
  },
  {
   "cell_type": "code",
   "execution_count": 26,
   "id": "614f6ab6",
   "metadata": {},
   "outputs": [
    {
     "name": "stdout",
     "output_type": "stream",
     "text": [
      "vec =\n",
      "     0     1     1     2     3     5     8    13    21    34    55\n"
     ]
    }
   ],
   "source": [
    "vec = fibonacci_vector(10)"
   ]
  },
  {
   "cell_type": "markdown",
   "id": "052c516c",
   "metadata": {
    "slideshow": {
     "slide_type": "slide"
    }
   },
   "source": [
    "# Algoritmer\n",
    "\n",
    "Programmatiska recept för att lösa specifika problem\n",
    "\n",
    "Exempel\n",
    "- **Sortering**: Sortera en lista av tal $[8, 4, 6, 1]$\n",
    "- **Rot-lösning**: Hitta lösningen $x$ till en ekvation $g(x) = 0$"
   ]
  },
  {
   "cell_type": "markdown",
   "id": "7a921102",
   "metadata": {
    "slideshow": {
     "slide_type": "subslide"
    }
   },
   "source": [
    "Det finns många algoritmer för att lösa dessa problem. \n",
    "\n",
    "De olika algoritmerna har olika styrkor och svagheter.\n",
    "\n",
    "**OBS!** I MATLAB finns färdiga funktioner som löser dessa problem med de mest robusta och effektiva algoritmerna."
   ]
  },
  {
   "cell_type": "code",
   "execution_count": 27,
   "id": "11b9d94f",
   "metadata": {},
   "outputs": [
    {
     "name": "stdout",
     "output_type": "stream",
     "text": [
      "ans =\n",
      "     8     6     4     1\n"
     ]
    }
   ],
   "source": [
    "l = [8, 4, 6, 1];\n",
    "sort(l, 'descend')\n",
    "%help('sort')"
   ]
  },
  {
   "cell_type": "code",
   "execution_count": 28,
   "id": "a9c7ea7b",
   "metadata": {
    "slideshow": {
     "slide_type": "subslide"
    }
   },
   "outputs": [
    {
     "name": "stdout",
     "output_type": "stream",
     "text": [
      "\n",
      "Equation solved.\n",
      "\n",
      "fsolve completed because the vector of function values is near zero\n",
      "as measured by the value of the function tolerance, and\n",
      "the problem appears regular as measured by the gradient.\n",
      "\n",
      "x0 =\n",
      "    1.2056\n"
     ]
    }
   ],
   "source": [
    "g = @(x) x.^3 + x.^2 - x - 2;\n",
    "x0 = fsolve(g, 3.);\n",
    "x0"
   ]
  },
  {
   "cell_type": "code",
   "execution_count": 29,
   "id": "e1cfaec6",
   "metadata": {
    "slideshow": {
     "slide_type": "subslide"
    }
   },
   "outputs": [
    {
     "data": {
      "image/png": "[encoded data removed]",
      "text/plain": [
       "<IPython.core.display.Image object>"
      ]
     },
     "metadata": {},
     "output_type": "display_data"
    }
   ],
   "source": [
    "x = linspace(-2, 2, 100);\n",
    "plot(x, g(x))\n",
    "hold on\n",
    "plot(x0, 0., 'or')\n",
    "plot(x, 0.*x, '-k')\n",
    "legend('h(x)', 'h(x)=0')\n",
    "xlabel('x')"
   ]
  },
  {
   "cell_type": "markdown",
   "id": "700cd1ed",
   "metadata": {
    "slideshow": {
     "slide_type": "slide"
    }
   },
   "source": [
    "## Slut på föreläsning 2\n",
    "\n",
    "### Övning 2 - Sorterings-algortmer\n",
    "\n",
    "<https://git.oru.se/hosd/matlab-intro/>"
   ]
  }
 ],
 "metadata": {
  "celltoolbar": "Slideshow",
  "kernelspec": {
   "display_name": "Matlab",
   "language": "matlab",
   "name": "matlab"
  },
  "language_info": {
   "codemirror_mode": "octave",
   "file_extension": ".m",
   "help_links": [
    {
     "text": "MetaKernel Magics",
     "url": "https://metakernel.readthedocs.io/en/latest/source/README.html"
    }
   ],
   "mimetype": "text/x-octave",
   "name": "matlab",
   "version": "0.17.1"
  }
 },
 "nbformat": 4,
 "nbformat_minor": 5
}
